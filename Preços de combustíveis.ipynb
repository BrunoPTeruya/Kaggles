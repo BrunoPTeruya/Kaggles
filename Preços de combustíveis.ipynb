{
 "cells": [
  {
   "cell_type": "markdown",
   "metadata": {},
   "source": [
    "# Preços da etanol e gasolina em novembro de 2019\n",
    "\n",
    "Os dados foram obtidos atraves do site: http://repositorio.dados.gov.br/dataset/serie-historica-de-precos-de-combustiveis-por-revenda"
   ]
  },
  {
   "cell_type": "code",
   "execution_count": 109,
   "metadata": {},
   "outputs": [],
   "source": [
    "import pandas as pd\n",
    "import numpy as np\n",
    "import matplotlib.pyplot as plt\n",
    "import seaborn as sns\n",
    "%matplotlib inline"
   ]
  },
  {
   "cell_type": "code",
   "execution_count": 110,
   "metadata": {},
   "outputs": [],
   "source": [
    "df = pd.read_excel('Pasta1.xlsx', sheet_name='Planilha3')"
   ]
  },
  {
   "cell_type": "code",
   "execution_count": 111,
   "metadata": {},
   "outputs": [
    {
     "data": {
      "text/html": [
       "<div>\n",
       "<style scoped>\n",
       "    .dataframe tbody tr th:only-of-type {\n",
       "        vertical-align: middle;\n",
       "    }\n",
       "\n",
       "    .dataframe tbody tr th {\n",
       "        vertical-align: top;\n",
       "    }\n",
       "\n",
       "    .dataframe thead th {\n",
       "        text-align: right;\n",
       "    }\n",
       "</style>\n",
       "<table border=\"1\" class=\"dataframe\">\n",
       "  <thead>\n",
       "    <tr style=\"text-align: right;\">\n",
       "      <th></th>\n",
       "      <th>Região - Sigla</th>\n",
       "      <th>Estado - Sigla</th>\n",
       "      <th>Município</th>\n",
       "      <th>Revenda</th>\n",
       "      <th>CNPJ da Revenda</th>\n",
       "      <th>Produto</th>\n",
       "      <th>Data da Coleta</th>\n",
       "      <th>Valor de Venda</th>\n",
       "      <th>Valor de Compra</th>\n",
       "      <th>Unidade de Medida</th>\n",
       "      <th>Bandeira</th>\n",
       "    </tr>\n",
       "  </thead>\n",
       "  <tbody>\n",
       "    <tr>\n",
       "      <th>0</th>\n",
       "      <td>CO</td>\n",
       "      <td>DF</td>\n",
       "      <td>BRASILIA</td>\n",
       "      <td>AUTO POSTO 306 NORTE LTDA</td>\n",
       "      <td>22398818000147</td>\n",
       "      <td>ETANOL</td>\n",
       "      <td>2019-11-06</td>\n",
       "      <td>3.199</td>\n",
       "      <td>NaN</td>\n",
       "      <td>R$ / litro</td>\n",
       "      <td>RAIZEN</td>\n",
       "    </tr>\n",
       "    <tr>\n",
       "      <th>1</th>\n",
       "      <td>CO</td>\n",
       "      <td>DF</td>\n",
       "      <td>BRASILIA</td>\n",
       "      <td>AUTO POSTO CHAVES LTDA</td>\n",
       "      <td>746278000102</td>\n",
       "      <td>ETANOL</td>\n",
       "      <td>2019-11-06</td>\n",
       "      <td>3.299</td>\n",
       "      <td>NaN</td>\n",
       "      <td>R$ / litro</td>\n",
       "      <td>PETROBRAS DISTRIBUIDORA S.A.</td>\n",
       "    </tr>\n",
       "    <tr>\n",
       "      <th>2</th>\n",
       "      <td>CO</td>\n",
       "      <td>DF</td>\n",
       "      <td>BRASILIA</td>\n",
       "      <td>AUTO POSTO CRIOLO LTDA</td>\n",
       "      <td>27169700000160</td>\n",
       "      <td>ETANOL</td>\n",
       "      <td>2019-11-06</td>\n",
       "      <td>3.299</td>\n",
       "      <td>NaN</td>\n",
       "      <td>R$ / litro</td>\n",
       "      <td>RAIZEN</td>\n",
       "    </tr>\n",
       "    <tr>\n",
       "      <th>3</th>\n",
       "      <td>CO</td>\n",
       "      <td>DF</td>\n",
       "      <td>BRASILIA</td>\n",
       "      <td>AUTO POSTO EIXINHO LTDA</td>\n",
       "      <td>5470808000156</td>\n",
       "      <td>ETANOL</td>\n",
       "      <td>2019-11-06</td>\n",
       "      <td>3.049</td>\n",
       "      <td>NaN</td>\n",
       "      <td>R$ / litro</td>\n",
       "      <td>PETROBRAS DISTRIBUIDORA S.A.</td>\n",
       "    </tr>\n",
       "    <tr>\n",
       "      <th>4</th>\n",
       "      <td>CO</td>\n",
       "      <td>DF</td>\n",
       "      <td>BRASILIA</td>\n",
       "      <td>AUTO POSTO ESQUINA LIMITADA</td>\n",
       "      <td>2551867000160</td>\n",
       "      <td>ETANOL</td>\n",
       "      <td>2019-11-06</td>\n",
       "      <td>3.189</td>\n",
       "      <td>2.8743</td>\n",
       "      <td>R$ / litro</td>\n",
       "      <td>BRANCA</td>\n",
       "    </tr>\n",
       "  </tbody>\n",
       "</table>\n",
       "</div>"
      ],
      "text/plain": [
       "  Região - Sigla Estado - Sigla Município                      Revenda  \\\n",
       "0             CO             DF  BRASILIA    AUTO POSTO 306 NORTE LTDA   \n",
       "1             CO             DF  BRASILIA       AUTO POSTO CHAVES LTDA   \n",
       "2             CO             DF  BRASILIA       AUTO POSTO CRIOLO LTDA   \n",
       "3             CO             DF  BRASILIA      AUTO POSTO EIXINHO LTDA   \n",
       "4             CO             DF  BRASILIA  AUTO POSTO ESQUINA LIMITADA   \n",
       "\n",
       "   CNPJ da Revenda Produto Data da Coleta  Valor de Venda  Valor de Compra  \\\n",
       "0   22398818000147  ETANOL     2019-11-06           3.199              NaN   \n",
       "1     746278000102  ETANOL     2019-11-06           3.299              NaN   \n",
       "2   27169700000160  ETANOL     2019-11-06           3.299              NaN   \n",
       "3    5470808000156  ETANOL     2019-11-06           3.049              NaN   \n",
       "4    2551867000160  ETANOL     2019-11-06           3.189           2.8743   \n",
       "\n",
       "  Unidade de Medida                      Bandeira  \n",
       "0        R$ / litro                        RAIZEN  \n",
       "1        R$ / litro  PETROBRAS DISTRIBUIDORA S.A.  \n",
       "2        R$ / litro                        RAIZEN  \n",
       "3        R$ / litro  PETROBRAS DISTRIBUIDORA S.A.  \n",
       "4        R$ / litro                        BRANCA  "
      ]
     },
     "execution_count": 111,
     "metadata": {},
     "output_type": "execute_result"
    }
   ],
   "source": [
    "df.head()"
   ]
  },
  {
   "cell_type": "code",
   "execution_count": 112,
   "metadata": {},
   "outputs": [
    {
     "data": {
      "text/plain": [
       "(43918, 11)"
      ]
     },
     "execution_count": 112,
     "metadata": {},
     "output_type": "execute_result"
    }
   ],
   "source": [
    "df.shape"
   ]
  },
  {
   "cell_type": "code",
   "execution_count": 113,
   "metadata": {},
   "outputs": [
    {
     "data": {
      "text/plain": [
       "1"
      ]
     },
     "execution_count": 113,
     "metadata": {},
     "output_type": "execute_result"
    }
   ],
   "source": [
    "df['Unidade de Medida'].nunique()"
   ]
  },
  {
   "cell_type": "code",
   "execution_count": 114,
   "metadata": {},
   "outputs": [
    {
     "name": "stdout",
     "output_type": "stream",
     "text": [
      "<class 'pandas.core.frame.DataFrame'>\n",
      "RangeIndex: 43918 entries, 0 to 43917\n",
      "Data columns (total 11 columns):\n",
      "Região - Sigla       43918 non-null object\n",
      "Estado - Sigla       43918 non-null object\n",
      "Município            43918 non-null object\n",
      "Revenda              43918 non-null object\n",
      "CNPJ da Revenda      43918 non-null int64\n",
      "Produto              43918 non-null object\n",
      "Data da Coleta       43918 non-null datetime64[ns]\n",
      "Valor de Venda       43918 non-null float64\n",
      "Valor de Compra      17011 non-null float64\n",
      "Unidade de Medida    43918 non-null object\n",
      "Bandeira             43918 non-null object\n",
      "dtypes: datetime64[ns](1), float64(2), int64(1), object(7)\n",
      "memory usage: 3.7+ MB\n"
     ]
    }
   ],
   "source": [
    "df.info()"
   ]
  },
  {
   "cell_type": "code",
   "execution_count": 115,
   "metadata": {},
   "outputs": [],
   "source": [
    "df.drop(columns=['CNPJ da Revenda', 'Revenda', 'Data da Coleta', 'Unidade de Medida'], inplace=True)"
   ]
  },
  {
   "cell_type": "code",
   "execution_count": 116,
   "metadata": {},
   "outputs": [
    {
     "data": {
      "text/plain": [
       "Região - Sigla         0\n",
       "Estado - Sigla         0\n",
       "Município              0\n",
       "Produto                0\n",
       "Valor de Venda         0\n",
       "Valor de Compra    26907\n",
       "Bandeira               0\n",
       "dtype: int64"
      ]
     },
     "execution_count": 116,
     "metadata": {},
     "output_type": "execute_result"
    }
   ],
   "source": [
    "df.isnull().sum()"
   ]
  },
  {
   "cell_type": "markdown",
   "metadata": {},
   "source": [
    "61,3% de valores nulos na coluna Valor de Compra. "
   ]
  },
  {
   "cell_type": "code",
   "execution_count": 117,
   "metadata": {},
   "outputs": [
    {
     "data": {
      "text/html": [
       "<div>\n",
       "<style scoped>\n",
       "    .dataframe tbody tr th:only-of-type {\n",
       "        vertical-align: middle;\n",
       "    }\n",
       "\n",
       "    .dataframe tbody tr th {\n",
       "        vertical-align: top;\n",
       "    }\n",
       "\n",
       "    .dataframe thead th {\n",
       "        text-align: right;\n",
       "    }\n",
       "</style>\n",
       "<table border=\"1\" class=\"dataframe\">\n",
       "  <thead>\n",
       "    <tr style=\"text-align: right;\">\n",
       "      <th></th>\n",
       "      <th>Valor de Venda</th>\n",
       "      <th>Valor de Compra</th>\n",
       "    </tr>\n",
       "  </thead>\n",
       "  <tbody>\n",
       "    <tr>\n",
       "      <th>count</th>\n",
       "      <td>43918.000000</td>\n",
       "      <td>17011.000000</td>\n",
       "    </tr>\n",
       "    <tr>\n",
       "      <th>mean</th>\n",
       "      <td>2.813710</td>\n",
       "      <td>2.331749</td>\n",
       "    </tr>\n",
       "    <tr>\n",
       "      <th>std</th>\n",
       "      <td>1.686111</td>\n",
       "      <td>1.598201</td>\n",
       "    </tr>\n",
       "    <tr>\n",
       "      <th>min</th>\n",
       "      <td>0.003000</td>\n",
       "      <td>0.000300</td>\n",
       "    </tr>\n",
       "    <tr>\n",
       "      <th>25%</th>\n",
       "      <td>0.465000</td>\n",
       "      <td>0.382500</td>\n",
       "    </tr>\n",
       "    <tr>\n",
       "      <th>50%</th>\n",
       "      <td>3.179000</td>\n",
       "      <td>2.669500</td>\n",
       "    </tr>\n",
       "    <tr>\n",
       "      <th>75%</th>\n",
       "      <td>4.259000</td>\n",
       "      <td>3.837750</td>\n",
       "    </tr>\n",
       "    <tr>\n",
       "      <th>max</th>\n",
       "      <td>5.799000</td>\n",
       "      <td>4.709900</td>\n",
       "    </tr>\n",
       "  </tbody>\n",
       "</table>\n",
       "</div>"
      ],
      "text/plain": [
       "       Valor de Venda  Valor de Compra\n",
       "count    43918.000000     17011.000000\n",
       "mean         2.813710         2.331749\n",
       "std          1.686111         1.598201\n",
       "min          0.003000         0.000300\n",
       "25%          0.465000         0.382500\n",
       "50%          3.179000         2.669500\n",
       "75%          4.259000         3.837750\n",
       "max          5.799000         4.709900"
      ]
     },
     "execution_count": 117,
     "metadata": {},
     "output_type": "execute_result"
    }
   ],
   "source": [
    "df.describe()"
   ]
  },
  {
   "cell_type": "markdown",
   "metadata": {},
   "source": [
    "Temos que dividir a base para separar Etanol de Gasolina"
   ]
  },
  {
   "cell_type": "code",
   "execution_count": 118,
   "metadata": {},
   "outputs": [],
   "source": [
    "df_e = df[df.Produto == 'ETANOL']"
   ]
  },
  {
   "cell_type": "code",
   "execution_count": 119,
   "metadata": {},
   "outputs": [],
   "source": [
    "df_g = df[df.Produto == 'GASOLINA']"
   ]
  },
  {
   "cell_type": "code",
   "execution_count": 120,
   "metadata": {},
   "outputs": [
    {
     "data": {
      "text/html": [
       "<div>\n",
       "<style scoped>\n",
       "    .dataframe tbody tr th:only-of-type {\n",
       "        vertical-align: middle;\n",
       "    }\n",
       "\n",
       "    .dataframe tbody tr th {\n",
       "        vertical-align: top;\n",
       "    }\n",
       "\n",
       "    .dataframe thead th {\n",
       "        text-align: right;\n",
       "    }\n",
       "</style>\n",
       "<table border=\"1\" class=\"dataframe\">\n",
       "  <thead>\n",
       "    <tr style=\"text-align: right;\">\n",
       "      <th></th>\n",
       "      <th>Valor de Venda</th>\n",
       "      <th>Valor de Compra</th>\n",
       "    </tr>\n",
       "  </thead>\n",
       "  <tbody>\n",
       "    <tr>\n",
       "      <th>count</th>\n",
       "      <td>20683.000000</td>\n",
       "      <td>7753.000000</td>\n",
       "    </tr>\n",
       "    <tr>\n",
       "      <th>mean</th>\n",
       "      <td>2.338963</td>\n",
       "      <td>2.231865</td>\n",
       "    </tr>\n",
       "    <tr>\n",
       "      <th>std</th>\n",
       "      <td>1.346823</td>\n",
       "      <td>1.160496</td>\n",
       "    </tr>\n",
       "    <tr>\n",
       "      <th>min</th>\n",
       "      <td>0.003000</td>\n",
       "      <td>0.000300</td>\n",
       "    </tr>\n",
       "    <tr>\n",
       "      <th>25%</th>\n",
       "      <td>0.379000</td>\n",
       "      <td>2.389800</td>\n",
       "    </tr>\n",
       "    <tr>\n",
       "      <th>50%</th>\n",
       "      <td>2.799000</td>\n",
       "      <td>2.573800</td>\n",
       "    </tr>\n",
       "    <tr>\n",
       "      <th>75%</th>\n",
       "      <td>3.199000</td>\n",
       "      <td>2.877600</td>\n",
       "    </tr>\n",
       "    <tr>\n",
       "      <th>max</th>\n",
       "      <td>4.999000</td>\n",
       "      <td>4.073900</td>\n",
       "    </tr>\n",
       "  </tbody>\n",
       "</table>\n",
       "</div>"
      ],
      "text/plain": [
       "       Valor de Venda  Valor de Compra\n",
       "count    20683.000000      7753.000000\n",
       "mean         2.338963         2.231865\n",
       "std          1.346823         1.160496\n",
       "min          0.003000         0.000300\n",
       "25%          0.379000         2.389800\n",
       "50%          2.799000         2.573800\n",
       "75%          3.199000         2.877600\n",
       "max          4.999000         4.073900"
      ]
     },
     "execution_count": 120,
     "metadata": {},
     "output_type": "execute_result"
    }
   ],
   "source": [
    "df_e.describe()"
   ]
  },
  {
   "cell_type": "code",
   "execution_count": 121,
   "metadata": {},
   "outputs": [
    {
     "data": {
      "text/html": [
       "<div>\n",
       "<style scoped>\n",
       "    .dataframe tbody tr th:only-of-type {\n",
       "        vertical-align: middle;\n",
       "    }\n",
       "\n",
       "    .dataframe tbody tr th {\n",
       "        vertical-align: top;\n",
       "    }\n",
       "\n",
       "    .dataframe thead th {\n",
       "        text-align: right;\n",
       "    }\n",
       "</style>\n",
       "<table border=\"1\" class=\"dataframe\">\n",
       "  <thead>\n",
       "    <tr style=\"text-align: right;\">\n",
       "      <th></th>\n",
       "      <th>Valor de Venda</th>\n",
       "      <th>Valor de Compra</th>\n",
       "    </tr>\n",
       "  </thead>\n",
       "  <tbody>\n",
       "    <tr>\n",
       "      <th>count</th>\n",
       "      <td>23235.000000</td>\n",
       "      <td>9258.000000</td>\n",
       "    </tr>\n",
       "    <tr>\n",
       "      <th>mean</th>\n",
       "      <td>3.236314</td>\n",
       "      <td>2.415396</td>\n",
       "    </tr>\n",
       "    <tr>\n",
       "      <th>std</th>\n",
       "      <td>1.838440</td>\n",
       "      <td>1.884237</td>\n",
       "    </tr>\n",
       "    <tr>\n",
       "      <th>min</th>\n",
       "      <td>0.005000</td>\n",
       "      <td>0.000400</td>\n",
       "    </tr>\n",
       "    <tr>\n",
       "      <th>25%</th>\n",
       "      <td>0.475000</td>\n",
       "      <td>0.378625</td>\n",
       "    </tr>\n",
       "    <tr>\n",
       "      <th>50%</th>\n",
       "      <td>4.199000</td>\n",
       "      <td>3.800700</td>\n",
       "    </tr>\n",
       "    <tr>\n",
       "      <th>75%</th>\n",
       "      <td>4.499000</td>\n",
       "      <td>4.037525</td>\n",
       "    </tr>\n",
       "    <tr>\n",
       "      <th>max</th>\n",
       "      <td>5.799000</td>\n",
       "      <td>4.709900</td>\n",
       "    </tr>\n",
       "  </tbody>\n",
       "</table>\n",
       "</div>"
      ],
      "text/plain": [
       "       Valor de Venda  Valor de Compra\n",
       "count    23235.000000      9258.000000\n",
       "mean         3.236314         2.415396\n",
       "std          1.838440         1.884237\n",
       "min          0.005000         0.000400\n",
       "25%          0.475000         0.378625\n",
       "50%          4.199000         3.800700\n",
       "75%          4.499000         4.037525\n",
       "max          5.799000         4.709900"
      ]
     },
     "execution_count": 121,
     "metadata": {},
     "output_type": "execute_result"
    }
   ],
   "source": [
    "df_g.describe()"
   ]
  },
  {
   "cell_type": "markdown",
   "metadata": {},
   "source": [
    "De acordo com ANP os valores médios de gasolina e etanol em R$/l para o mês de novembro são: 4,413 e 2,974.\n",
    "Isso aponta que podem haver erros nessa base de dados.\n",
    "http://www.anp.gov.br/precos-e-defesa-da-concorrencia/precos/levantamento-de-precos\n"
   ]
  },
  {
   "cell_type": "code",
   "execution_count": 122,
   "metadata": {},
   "outputs": [
    {
     "data": {
      "text/plain": [
       "<matplotlib.axes._subplots.AxesSubplot at 0x17e0c91ee48>"
      ]
     },
     "execution_count": 122,
     "metadata": {},
     "output_type": "execute_result"
    },
    {
     "data": {
      "image/png": "[encoded data removed]",
      "text/plain": [
       "<Figure size 432x288 with 1 Axes>"
      ]
     },
     "metadata": {
      "needs_background": "light"
     },
     "output_type": "display_data"
    }
   ],
   "source": [
    "df_e.boxplot(column=['Valor de Venda', 'Valor de Compra'])"
   ]
  },
  {
   "cell_type": "code",
   "execution_count": 123,
   "metadata": {},
   "outputs": [
    {
     "data": {
      "text/plain": [
       "<matplotlib.axes._subplots.AxesSubplot at 0x17e0c375a58>"
      ]
     },
     "execution_count": 123,
     "metadata": {},
     "output_type": "execute_result"
    },
    {
     "data": {
      "image/png": "[encoded data removed]",
      "text/plain": [
       "<Figure size 432x288 with 1 Axes>"
      ]
     },
     "metadata": {
      "needs_background": "light"
     },
     "output_type": "display_data"
    }
   ],
   "source": [
    "df_g.boxplot(column=['Valor de Venda', 'Valor de Compra'])"
   ]
  },
  {
   "cell_type": "markdown",
   "metadata": {},
   "source": [
    "Podemos ver que há uma distribuição grande de valores de venda mas a mediana nos dois casos é maior que a mediana do valor de compra."
   ]
  },
  {
   "cell_type": "code",
   "execution_count": 124,
   "metadata": {},
   "outputs": [
    {
     "data": {
      "text/plain": [
       "SE    10958\n",
       "NE     4087\n",
       "S      2850\n",
       "CO     2072\n",
       "N       716\n",
       "Name: Região - Sigla, dtype: int64"
      ]
     },
     "execution_count": 124,
     "metadata": {},
     "output_type": "execute_result"
    }
   ],
   "source": [
    "pd.value_counts(df_e['Região - Sigla'])\n",
    "# Número de postos por região"
   ]
  },
  {
   "cell_type": "code",
   "execution_count": 125,
   "metadata": {},
   "outputs": [
    {
     "data": {
      "text/plain": [
       "<matplotlib.axes._subplots.AxesSubplot at 0x17e0c448f60>"
      ]
     },
     "execution_count": 125,
     "metadata": {},
     "output_type": "execute_result"
    },
    {
     "data": {
      "image/png": "[encoded data removed]",
      "text/plain": [
       "<Figure size 432x288 with 1 Axes>"
      ]
     },
     "metadata": {
      "needs_background": "light"
     },
     "output_type": "display_data"
    }
   ],
   "source": [
    "df_e['Região - Sigla'].value_counts().plot(kind='barh')"
   ]
  },
  {
   "cell_type": "code",
   "execution_count": 126,
   "metadata": {},
   "outputs": [
    {
     "data": {
      "text/plain": [
       "SE    11039\n",
       "NE     4633\n",
       "S      3940\n",
       "CO     2067\n",
       "N      1556\n",
       "Name: Região - Sigla, dtype: int64"
      ]
     },
     "execution_count": 126,
     "metadata": {},
     "output_type": "execute_result"
    }
   ],
   "source": [
    "pd.value_counts(df_g['Região - Sigla'])"
   ]
  },
  {
   "cell_type": "code",
   "execution_count": 127,
   "metadata": {},
   "outputs": [
    {
     "data": {
      "text/plain": [
       "<matplotlib.axes._subplots.AxesSubplot at 0x17e0c849940>"
      ]
     },
     "execution_count": 127,
     "metadata": {},
     "output_type": "execute_result"
    },
    {
     "data": {
      "image/png": "[encoded data removed]",
      "text/plain": [
       "<Figure size 432x288 with 1 Axes>"
      ]
     },
     "metadata": {
      "needs_background": "light"
     },
     "output_type": "display_data"
    }
   ],
   "source": [
    "df_g['Região - Sigla'].value_counts().plot(kind='barh')"
   ]
  },
  {
   "cell_type": "code",
   "execution_count": 128,
   "metadata": {},
   "outputs": [
    {
     "data": {
      "text/plain": [
       "BRANCA                          7453\n",
       "PETROBRAS DISTRIBUIDORA S.A.    4967\n",
       "RAIZEN                          3323\n",
       "IPIRANGA                        3299\n",
       "ALESAT                           496\n",
       "Name: Bandeira, dtype: int64"
      ]
     },
     "execution_count": 128,
     "metadata": {},
     "output_type": "execute_result"
    }
   ],
   "source": [
    "df_e['Bandeira'].value_counts().head()"
   ]
  },
  {
   "cell_type": "code",
   "execution_count": 129,
   "metadata": {},
   "outputs": [
    {
     "data": {
      "text/plain": [
       "<matplotlib.axes._subplots.AxesSubplot at 0x17e0be4dda0>"
      ]
     },
     "execution_count": 129,
     "metadata": {},
     "output_type": "execute_result"
    },
    {
     "data": {
      "image/png": "[encoded data removed]",
      "text/plain": [
       "<Figure size 864x576 with 1 Axes>"
      ]
     },
     "metadata": {},
     "output_type": "display_data"
    }
   ],
   "source": [
    "plt.figure(figsize=(12,8))\n",
    "df_e['Bandeira'].value_counts().plot(kind='pie', autopct='%1.0f%%')"
   ]
  },
  {
   "cell_type": "code",
   "execution_count": 130,
   "metadata": {},
   "outputs": [
    {
     "data": {
      "text/plain": [
       "BRANCA                          8105\n",
       "PETROBRAS DISTRIBUIDORA S.A.    5537\n",
       "IPIRANGA                        3917\n",
       "RAIZEN                          3553\n",
       "ALESAT                           554\n",
       "Name: Bandeira, dtype: int64"
      ]
     },
     "execution_count": 130,
     "metadata": {},
     "output_type": "execute_result"
    }
   ],
   "source": [
    "df_g['Bandeira'].value_counts().head()"
   ]
  },
  {
   "cell_type": "code",
   "execution_count": 131,
   "metadata": {},
   "outputs": [
    {
     "data": {
      "text/plain": [
       "<matplotlib.axes._subplots.AxesSubplot at 0x17e0bbf9978>"
      ]
     },
     "execution_count": 131,
     "metadata": {},
     "output_type": "execute_result"
    },
    {
     "data": {
      "image/png": "[encoded data removed]",
      "text/plain": [
       "<Figure size 864x576 with 1 Axes>"
      ]
     },
     "metadata": {},
     "output_type": "display_data"
    }
   ],
   "source": [
    "plt.figure(figsize=(12,8))\n",
    "df_g['Bandeira'].value_counts().plot(kind='pie', autopct='%1.0f%%')"
   ]
  },
  {
   "cell_type": "markdown",
   "metadata": {},
   "source": [
    "A distribuição através da chamada bandeira branca é a maior no setor. "
   ]
  },
  {
   "cell_type": "code",
   "execution_count": 132,
   "metadata": {},
   "outputs": [],
   "source": [
    "from pandas_profiling import ProfileReport"
   ]
  },
  {
   "cell_type": "code",
   "execution_count": 133,
   "metadata": {},
   "outputs": [],
   "source": [
    "#profile_e = ProfileReport(df_e)\n",
    "#profile_e"
   ]
  },
  {
   "cell_type": "code",
   "execution_count": 134,
   "metadata": {},
   "outputs": [
    {
     "data": {
      "text/plain": [
       "Index(['Região - Sigla', 'Estado - Sigla', 'Município', 'Produto',\n",
       "       'Valor de Venda', 'Valor de Compra', 'Bandeira'],\n",
       "      dtype='object')"
      ]
     },
     "execution_count": 134,
     "metadata": {},
     "output_type": "execute_result"
    }
   ],
   "source": [
    "df_e.columns"
   ]
  },
  {
   "cell_type": "code",
   "execution_count": 135,
   "metadata": {},
   "outputs": [
    {
     "data": {
      "text/plain": [
       "Estado - Sigla\n",
       "AC    0.836541\n",
       "AL    2.191556\n",
       "AM    0.585513\n",
       "AP    3.699000\n",
       "BA    1.563408\n",
       "CE    1.394398\n",
       "DF    2.971972\n",
       "ES    1.550228\n",
       "GO    1.523059\n",
       "MA    2.455525\n",
       "MG    2.422614\n",
       "MS    2.684709\n",
       "MT    2.112080\n",
       "PA    2.132395\n",
       "PB    1.441688\n",
       "PE    2.236018\n",
       "PI    2.768945\n",
       "PR    1.027394\n",
       "RJ    3.612462\n",
       "RN    0.621320\n",
       "RO    1.351223\n",
       "RR    0.385357\n",
       "RS    3.468846\n",
       "SC    3.296839\n",
       "SE    2.440519\n",
       "SP    2.658445\n",
       "TO    2.160711\n",
       "Name: Valor de Venda, dtype: float64"
      ]
     },
     "execution_count": 135,
     "metadata": {},
     "output_type": "execute_result"
    }
   ],
   "source": [
    "df_e.groupby('Estado - Sigla')['Valor de Venda'].mean()"
   ]
  },
  {
   "cell_type": "code",
   "execution_count": 136,
   "metadata": {},
   "outputs": [
    {
     "data": {
      "text/plain": [
       "Estado - Sigla\n",
       "AC    1.480679\n",
       "AL    2.989703\n",
       "AM    0.945087\n",
       "AP    1.711607\n",
       "BA    2.129390\n",
       "CE    1.579304\n",
       "DF    3.987793\n",
       "ES    1.441273\n",
       "GO    2.303050\n",
       "MA    3.301269\n",
       "MG    3.754894\n",
       "MS    3.574557\n",
       "MT    3.732273\n",
       "PA    1.900353\n",
       "PB    2.153560\n",
       "PE    3.058136\n",
       "PI    3.118963\n",
       "PR    1.474150\n",
       "RJ    4.500042\n",
       "RN    0.900473\n",
       "RO    2.077382\n",
       "RR    0.638423\n",
       "RS    4.004399\n",
       "SC    3.899560\n",
       "SE    2.461076\n",
       "SP    3.997647\n",
       "TO    2.876250\n",
       "Name: Valor de Venda, dtype: float64"
      ]
     },
     "execution_count": 136,
     "metadata": {},
     "output_type": "execute_result"
    }
   ],
   "source": [
    "df_g.groupby('Estado - Sigla')['Valor de Venda'].mean()"
   ]
  },
  {
   "cell_type": "code",
   "execution_count": 137,
   "metadata": {},
   "outputs": [
    {
     "data": {
      "text/plain": [
       "Região - Sigla\n",
       "CO    2.018534\n",
       "N     1.506605\n",
       "NE    1.762808\n",
       "S     2.146005\n",
       "SE    2.719012\n",
       "Name: Valor de Venda, dtype: float64"
      ]
     },
     "execution_count": 137,
     "metadata": {},
     "output_type": "execute_result"
    }
   ],
   "source": [
    "# Média para etanol\n",
    "df_e.groupby('Região - Sigla')['Valor de Venda'].mean()"
   ]
  },
  {
   "cell_type": "code",
   "execution_count": 138,
   "metadata": {},
   "outputs": [
    {
     "data": {
      "text/plain": [
       "Região - Sigla\n",
       "CO    3.098894\n",
       "N     1.766510\n",
       "NE    2.349600\n",
       "S     3.028466\n",
       "SE    3.915553\n",
       "Name: Valor de Venda, dtype: float64"
      ]
     },
     "execution_count": 138,
     "metadata": {},
     "output_type": "execute_result"
    }
   ],
   "source": [
    "# Média para gasolina\n",
    "df_g.groupby('Região - Sigla')['Valor de Venda'].mean()"
   ]
  },
  {
   "cell_type": "code",
   "execution_count": 139,
   "metadata": {},
   "outputs": [
    {
     "data": {
      "text/plain": [
       "Região - Sigla\n",
       "CO    2.599\n",
       "N     0.386\n",
       "NE    0.384\n",
       "S     2.899\n",
       "SE    2.844\n",
       "Name: Valor de Venda, dtype: float64"
      ]
     },
     "execution_count": 139,
     "metadata": {},
     "output_type": "execute_result"
    }
   ],
   "source": [
    "# Mediana para etanol\n",
    "df_e.groupby('Região - Sigla')['Valor de Venda'].median()"
   ]
  },
  {
   "cell_type": "code",
   "execution_count": 140,
   "metadata": {},
   "outputs": [
    {
     "data": {
      "text/plain": [
       "Região - Sigla\n",
       "CO    4.319\n",
       "N     0.475\n",
       "NE    0.484\n",
       "S     4.099\n",
       "SE    4.298\n",
       "Name: Valor de Venda, dtype: float64"
      ]
     },
     "execution_count": 140,
     "metadata": {},
     "output_type": "execute_result"
    }
   ],
   "source": [
    "# Mediana para gasolina\n",
    "df_g.groupby('Região - Sigla')['Valor de Venda'].median()"
   ]
  },
  {
   "cell_type": "markdown",
   "metadata": {},
   "source": [
    "Os valores de venda nas regiões norte e nordeste tem uma variação grande em relação às outras regiões"
   ]
  },
  {
   "cell_type": "code",
   "execution_count": 141,
   "metadata": {},
   "outputs": [
    {
     "data": {
      "text/html": [
       "<div>\n",
       "<style scoped>\n",
       "    .dataframe tbody tr th:only-of-type {\n",
       "        vertical-align: middle;\n",
       "    }\n",
       "\n",
       "    .dataframe tbody tr th {\n",
       "        vertical-align: top;\n",
       "    }\n",
       "\n",
       "    .dataframe thead th {\n",
       "        text-align: right;\n",
       "    }\n",
       "</style>\n",
       "<table border=\"1\" class=\"dataframe\">\n",
       "  <thead>\n",
       "    <tr style=\"text-align: right;\">\n",
       "      <th></th>\n",
       "      <th>Valor de Venda Etanol</th>\n",
       "    </tr>\n",
       "    <tr>\n",
       "      <th>Bandeira</th>\n",
       "      <th></th>\n",
       "    </tr>\n",
       "  </thead>\n",
       "  <tbody>\n",
       "    <tr>\n",
       "      <th>BRANCA</th>\n",
       "      <td>2.125258</td>\n",
       "    </tr>\n",
       "    <tr>\n",
       "      <th>PETROBRAS DISTRIBUIDORA S.A.</th>\n",
       "      <td>2.449838</td>\n",
       "    </tr>\n",
       "    <tr>\n",
       "      <th>IPIRANGA</th>\n",
       "      <td>2.597948</td>\n",
       "    </tr>\n",
       "    <tr>\n",
       "      <th>RAIZEN</th>\n",
       "      <td>2.483992</td>\n",
       "    </tr>\n",
       "  </tbody>\n",
       "</table>\n",
       "</div>"
      ],
      "text/plain": [
       "                              Valor de Venda Etanol\n",
       "Bandeira                                           \n",
       "BRANCA                                     2.125258\n",
       "PETROBRAS DISTRIBUIDORA S.A.               2.449838\n",
       "IPIRANGA                                   2.597948\n",
       "RAIZEN                                     2.483992"
      ]
     },
     "execution_count": 141,
     "metadata": {},
     "output_type": "execute_result"
    }
   ],
   "source": [
    "pd.DataFrame(df_e.groupby('Bandeira')['Valor de Venda'].mean().loc[['BRANCA', 'PETROBRAS DISTRIBUIDORA S.A.','IPIRANGA', 'RAIZEN']]).rename(columns={'Valor de Venda': 'Valor de Venda Etanol'})"
   ]
  },
  {
   "cell_type": "code",
   "execution_count": 142,
   "metadata": {},
   "outputs": [
    {
     "data": {
      "text/html": [
       "<div>\n",
       "<style scoped>\n",
       "    .dataframe tbody tr th:only-of-type {\n",
       "        vertical-align: middle;\n",
       "    }\n",
       "\n",
       "    .dataframe tbody tr th {\n",
       "        vertical-align: top;\n",
       "    }\n",
       "\n",
       "    .dataframe thead th {\n",
       "        text-align: right;\n",
       "    }\n",
       "</style>\n",
       "<table border=\"1\" class=\"dataframe\">\n",
       "  <thead>\n",
       "    <tr style=\"text-align: right;\">\n",
       "      <th></th>\n",
       "      <th>Valor de Venda Gasolina</th>\n",
       "    </tr>\n",
       "    <tr>\n",
       "      <th>Bandeira</th>\n",
       "      <th></th>\n",
       "    </tr>\n",
       "  </thead>\n",
       "  <tbody>\n",
       "    <tr>\n",
       "      <th>BRANCA</th>\n",
       "      <td>3.018534</td>\n",
       "    </tr>\n",
       "    <tr>\n",
       "      <th>PETROBRAS DISTRIBUIDORA S.A.</th>\n",
       "      <td>3.312123</td>\n",
       "    </tr>\n",
       "    <tr>\n",
       "      <th>IPIRANGA</th>\n",
       "      <td>3.560169</td>\n",
       "    </tr>\n",
       "    <tr>\n",
       "      <th>RAIZEN</th>\n",
       "      <td>3.503250</td>\n",
       "    </tr>\n",
       "  </tbody>\n",
       "</table>\n",
       "</div>"
      ],
      "text/plain": [
       "                              Valor de Venda Gasolina\n",
       "Bandeira                                             \n",
       "BRANCA                                       3.018534\n",
       "PETROBRAS DISTRIBUIDORA S.A.                 3.312123\n",
       "IPIRANGA                                     3.560169\n",
       "RAIZEN                                       3.503250"
      ]
     },
     "execution_count": 142,
     "metadata": {},
     "output_type": "execute_result"
    }
   ],
   "source": [
    "pd.DataFrame(df_g.groupby('Bandeira')['Valor de Venda'].mean().loc[['BRANCA', 'PETROBRAS DISTRIBUIDORA S.A.','IPIRANGA', 'RAIZEN']]).rename(columns={'Valor de Venda': 'Valor de Venda Gasolina'})"
   ]
  },
  {
   "cell_type": "markdown",
   "metadata": {},
   "source": [
    "Os postos bandeira branca tem em média um valor bem inferior quando comparados aos postos abastecidos pelas grandes distribuidoras"
   ]
  },
  {
   "cell_type": "markdown",
   "metadata": {},
   "source": [
    "### Vamos tomar apenas a região Sudeste para a análise"
   ]
  },
  {
   "cell_type": "code",
   "execution_count": 143,
   "metadata": {},
   "outputs": [
    {
     "data": {
      "text/plain": [
       "(21997, 43918)"
      ]
     },
     "execution_count": 143,
     "metadata": {},
     "output_type": "execute_result"
    }
   ],
   "source": [
    "len(df[df['Região - Sigla'] == 'SE']), len(df)"
   ]
  },
  {
   "cell_type": "code",
   "execution_count": 144,
   "metadata": {},
   "outputs": [],
   "source": [
    "df_se = df[df['Região - Sigla'] == 'SE']"
   ]
  },
  {
   "cell_type": "code",
   "execution_count": 145,
   "metadata": {},
   "outputs": [],
   "source": [
    "df_se.to_csv('Preço de combustível no Sudeste.csv', index=False)"
   ]
  },
  {
   "cell_type": "code",
   "execution_count": null,
   "metadata": {},
   "outputs": [],
   "source": []
  }
 ],
 "metadata": {
  "kernelspec": {
   "display_name": "Python 3",
   "language": "python",
   "name": "python3"
  },
  "language_info": {
   "codemirror_mode": {
    "name": "ipython",
    "version": 3
   },
   "file_extension": ".py",
   "mimetype": "text/x-python",
   "name": "python",
   "nbconvert_exporter": "python",
   "pygments_lexer": "ipython3",
   "version": "3.7.3"
  }
 },
 "nbformat": 4,
 "nbformat_minor": 2
}
