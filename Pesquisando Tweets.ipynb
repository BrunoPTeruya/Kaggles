{
 "cells": [
  {
   "cell_type": "code",
   "execution_count": 1,
   "metadata": {},
   "outputs": [],
   "source": [
    "import tweepy"
   ]
  },
  {
   "cell_type": "markdown",
   "metadata": {},
   "source": [
    "#### Com o API Rest do Twitter podemos interagir com a plataforma da empresa de forma que é possível ler, escrever, pesquisar tweets entre outras funções.\n",
    "\n",
    "Para termos acesso a essas funcionalidades precisamos de credenciais do Twitter. Com um conta criada é possível ver as credenciais em:\n",
    "\n",
    ">[developer.twitter.com](https://developer.twitter.com/) -> ‘Usuário‘ -> Apps -> Details -> Keys and tokens\n",
    "\n",
    "É necessário buscar:\n",
    "*\tConsumer Key\n",
    "*\tConsumer Secret\n",
    "*\tAcces Token\n",
    "*\tAcces Token Secret\n"
   ]
  },
  {
   "cell_type": "code",
   "execution_count": 2,
   "metadata": {},
   "outputs": [],
   "source": [
    "consumer_key = ''\n",
    "consumer_secret = ''\n",
    "access_token = ''\n",
    "access_token_secret = ''"
   ]
  },
  {
   "cell_type": "code",
   "execution_count": 3,
   "metadata": {},
   "outputs": [],
   "source": [
    "autorizar = tweepy.OAuthHandler(consumer_key, consumer_secret)"
   ]
  },
  {
   "cell_type": "code",
   "execution_count": 4,
   "metadata": {},
   "outputs": [],
   "source": [
    "autorizar.set_access_token(access_token, access_token_secret)"
   ]
  },
  {
   "cell_type": "markdown",
   "metadata": {},
   "source": [
    "### Com o módulo Tweepy podemos acessar a API do Twitter. "
   ]
  },
  {
   "cell_type": "code",
   "execution_count": 5,
   "metadata": {},
   "outputs": [],
   "source": [
    "api = tweepy.API(autorizar)"
   ]
  },
  {
   "cell_type": "code",
   "execution_count": 6,
   "metadata": {},
   "outputs": [
    {
     "name": "stdout",
     "output_type": "stream",
     "text": [
      "<tweepy.api.API object at 0x000001EF3C4EE978>\n"
     ]
    }
   ],
   "source": [
    "print(api)"
   ]
  },
  {
   "cell_type": "markdown",
   "metadata": {},
   "source": [
    "### Com o método api.search(q, count, max_id, lang) podemos pesquisar tweets.\n",
    "\n",
    "*\t**q** é o parâmetro a ser pesquisado\n",
    "*\t**count** é a quantidade de tweets que serão retornados. O máximo é 100 e o padrão é 15\n",
    "*\t**max_id** retorna apenas os tweets com o ID menor ou igual ao que foi especificado\n",
    "*\t**lang** é o idioma a ser pesquisado"
   ]
  },
  {
   "cell_type": "code",
   "execution_count": 11,
   "metadata": {},
   "outputs": [],
   "source": [
    "tweets = api.search(q=['Messi', 'FIFA'], lang='pt', count=100)"
   ]
  },
  {
   "cell_type": "code",
   "execution_count": 12,
   "metadata": {},
   "outputs": [
    {
     "name": "stdout",
     "output_type": "stream",
     "text": [
      "1 Tá CERTO !!! Essa fifa é ridícula e se eu fosse o Messi tbm não ia 🤣 https://t.co/LoEILL9RPN\n",
      "2 RT @mario06aguilar: Tendo em conta que premeia o jogador que melhor jogou, é óbvio que quem merece é o Messi, no entanto FIFA é o que é e e…\n",
      "3 RT @InfosFuteboI: #Messi presente na cerimônia dos melhores do ano da FIFA! #TheBestAwards https://t.co/ZPgshhV06n\n",
      "4 RT @Ezequiel_Filho1: Perguntaram ao nosso Nickollas - já na Europa, para concorrer ao prêmio da FIFA - qual o maior jogador do mundo: Messi…\n",
      "5 Essa merda mal começou e todo mundo já ta puto pq a chance da fifa roubar o #Messi é grande\n",
      "6 RT @BoraBaheea: Eu quando a FIFA anunciar que #messi não ganhou o prêmio de the best https://t.co/q0K16O0ZK9\n",
      "7 RT @NicholasMoninh7: se não der Messi a Fifa n sabe nada de futebol.\n",
      "8 RT @MessiLeoBrasil: #Messi já está na cerimônia da Fifa!\n",
      "\n",
      "👽 https://t.co/sOysPFfxDS\n",
      "9 Se o Messi não levar essa bola de ouro, pode acabar a Fifa\n",
      "10 RT @MessiLeoBrasil: #Messi já está na cerimônia da Fifa!\n",
      "\n",
      "👽 https://t.co/sOysPFfxDS\n",
      "11 RT @BoraBaheea: Eu quando a FIFA anunciar que #messi não ganhou o prêmio de the best https://t.co/q0K16O0ZK9\n",
      "12 RT @FlavinhoKavalo: Segundo diversos meios, esse é o FIFA FIFPro World XI (time ideal do ano) de 2019, que será confirmado daqui a pouco:…\n",
      "13 Daqui a pouco a #Fifa #TheBest escolhe os melhores do mundo. Será que o grande Lionel #Messi leva?\n",
      "14 Um jornalista esportivo falar que se o Messi não ganhar a fifa não sabe nada de futebol chega a ser brincadeira KKKKK\n",
      "15 RT @InfosFuteboI: #Messi presente na cerimônia dos melhores do ano da FIFA! #TheBestAwards https://t.co/ZPgshhV06n\n",
      "16 RT @Ezequiel_Filho1: Perguntaram ao nosso Nickollas - já na Europa, para concorrer ao prêmio da FIFA - qual o maior jogador do mundo: Messi…\n",
      "17 Se não der Messi fica extremamente claro que a FIFA não entende de futebol\n",
      "18 RT @poanohamais: Messi mas FIFA é FIFA https://t.co/KPn0LJHfa0\n",
      "19 Tendo em conta que premeia o jogador que melhor jogou, é óbvio que quem merece é o Messi, no entanto FIFA é o que é… https://t.co/sa1CU9sOnm\n",
      "20 RT @InfosFuteboI: #Messi presente na cerimônia dos melhores do ano da FIFA! #TheBestAwards https://t.co/ZPgshhV06n\n",
      "21 RT @InfosFuteboI: #Messi presente na cerimônia dos melhores do ano da FIFA! #TheBestAwards https://t.co/ZPgshhV06n\n",
      "22 RT @InfosFuteboI: #Messi presente na cerimônia dos melhores do ano da FIFA! #TheBestAwards https://t.co/ZPgshhV06n\n",
      "23 É #Messi não tem como n roube fifa j roubeeee\n",
      "24 RT @poanohamais: Messi mas FIFA é FIFA https://t.co/KPn0LJHfa0\n",
      "25 @GuidettiDS @Rhalmacedo Sergio ramos ja fez epocas muito mais produtivas que a melhor epoca do van djik e nunca tev… https://t.co/6m0gg9Q3Dd\n",
      "26 RT @InfosFuteboI: #Messi presente na cerimônia dos melhores do ano da FIFA! #TheBestAwards https://t.co/ZPgshhV06n\n",
      "27 RT @MessiLeoBrasil: #Messi já está na cerimônia da Fifa!\n",
      "\n",
      "👽 https://t.co/sOysPFfxDS\n",
      "28 RT @Fail_Futebol: A família #Messi indo ver a FIFA tirar mais um prêmio dele. 🤩🤩🤩 https://t.co/4Ms1nj2JWH\n",
      "29 RT @poanohamais: Messi mas FIFA é FIFA https://t.co/KPn0LJHfa0\n",
      "30 RT @InfosFuteboI: #Messi presente na cerimônia dos melhores do ano da FIFA! #TheBestAwards https://t.co/ZPgshhV06n\n",
      "31 #Messi The Best Fifa hoje fácil na moral!\n",
      "\n",
      "o Van Dijk e o C. Ronaldo são monstros mas o Messi é totalmente fora de… https://t.co/2dpdEhJ0e2\n",
      "32 RT @InfosFuteboI: #Messi presente na cerimônia dos melhores do ano da FIFA! #TheBestAwards https://t.co/ZPgshhV06n\n",
      "33 E o Messi que foi pra premiação da FIFA com o uniforme de jogo\n",
      "34 #Messi  foi com uniforme de jogo pra cerimonia da FIFA\n",
      "35 se o Messi n ganhar o The Best vai ta 100% provado q a FIFA segue modinha, é só aceitar\n",
      "36 Messi mas FIFA é FIFA https://t.co/KPn0LJHfa0\n",
      "37 RT @PortalMessi: Messi em sessão de fotos para a FIFA! #TheBestAwards https://t.co/rzUrnRMTHL\n",
      "38 RT @CulesBrazil: 📊| Nos últimos 10 anos, apenas Messi (2010-2012) e Cristiano Ronaldo (2013) venceram o prêmio de melhor do mundo da FIFA s…\n",
      "39 RT @InfosFuteboI: #Messi presente na cerimônia dos melhores do ano da FIFA! #TheBestAwards https://t.co/ZPgshhV06n\n",
      "40 Como eu queria que fosse:\n",
      "Melhor dos macho - Messi\n",
      "Melhor das fêmea- Megan God Rapinoe\n",
      "Melhor goleiro - ter stegen… https://t.co/IH5bgwADoW\n",
      "41 RT @DonaLuciaHexa: Sobre o prêmio melhor da FIFA:\n",
      "\n",
      "Quem não deveria nem concorrer nesta temporada: CR7\n",
      "Quem acham que deveria ganhar: Messi…\n",
      "42 Mi elección para #TheBest es Messi Se ele não ganhar já pode fechar a FIFA.\n",
      "43 RT @InfosFuteboI: #Messi presente na cerimônia dos melhores do ano da FIFA! #TheBestAwards https://t.co/ZPgshhV06n\n",
      "44 RT @MessiLeoBrasil: #Messi já está na cerimônia da Fifa!\n",
      "\n",
      "👽 https://t.co/sOysPFfxDS\n",
      "45 RT @InfosFuteboI: #Messi presente na cerimônia dos melhores do ano da FIFA! #TheBestAwards https://t.co/ZPgshhV06n\n",
      "46 RT @InfosFuteboI: #Messi presente na cerimônia dos melhores do ano da FIFA! #TheBestAwards https://t.co/ZPgshhV06n\n",
      "47 RT @InfosFuteboI: #Messi presente na cerimônia dos melhores do ano da FIFA! #TheBestAwards https://t.co/ZPgshhV06n\n",
      "48 RT @InfosFuteboI: #Messi presente na cerimônia dos melhores do ano da FIFA! #TheBestAwards https://t.co/ZPgshhV06n\n",
      "49 RT @MessiLeoBrasil: #Messi já está na cerimônia da Fifa!\n",
      "\n",
      "👽 https://t.co/sOysPFfxDS\n",
      "50 RT @PortalMessi: Messi em sessão de fotos para a FIFA! #TheBestAwards https://t.co/rzUrnRMTHL\n",
      "51 Cristiano o ano passado merecia o The Best e o prêmio Puskas justamente. A Fifa roubou lhe os dois.\n",
      "Esse ano é capa… https://t.co/iNJtt7E9Bd\n",
      "52 todo mundo sabe que essa FIFA suja vai dar a bola de ouro pra Van Dijk e o Puskás pra Messi\n",
      "53 pra começar a semana bem, só o Messi ganhando o FIFA the best hoje\n",
      "54 RT @InfosFuteboI: #Messi presente na cerimônia dos melhores do ano da FIFA! #TheBestAwards https://t.co/ZPgshhV06n\n",
      "55 RT @InfosFuteboI: #Messi presente na cerimônia dos melhores do ano da FIFA! #TheBestAwards https://t.co/ZPgshhV06n\n",
      "56 RT @InfosFuteboI: #Messi presente na cerimônia dos melhores do ano da FIFA! #TheBestAwards https://t.co/ZPgshhV06n\n",
      "57 @iwantavares @caue_vianna @liperreis @brunoformiga Isso é óbvio, cara. Qm entende o mínimo de futebol sabe q Messi… https://t.co/xwUsR6xS9u\n",
      "58 RT @BoraBaheea: Eu quando a FIFA anunciar que #messi não ganhou o prêmio de the best https://t.co/q0K16O0ZK9\n",
      "59 CR7 maior da história junto com R10, hj o prêmio de melhor do mundo tem que ser do Van Dijk se não for a fifa é um… https://t.co/tITWDocOpY\n",
      "60 se o messi não ganhar hoje vou ter a certeza da corrupção dessa fifa\n",
      "61 Hoje é dia do FIFA The Besta Football Awards\n",
      "\n",
      "E para você quem ficará com o titulo?? \n",
      "#CR7 \n",
      "#Messi\n",
      "#VanDijk\n",
      "62 RT @BoraBaheea: Eu quando a FIFA anunciar que #messi não ganhou o prêmio de the best https://t.co/q0K16O0ZK9\n",
      "63 RT @rodolfo1975: Maiores vencedores do prêmio melhor do mundo da Fifa (1991-2018):\n",
      "5 Cristiano Ronaldo\n",
      "5 Messi\n",
      "3 Zidane\n",
      "3 Ronaldo\n",
      "2 Ronaldi…\n",
      "64 RT @meurmadrid: 👉 Nossa redação votou (sem o coração) e o nosso #TheBest de Melhor Jogador ficou assim. Lembrando que respeitamos a escolha…\n",
      "65 odeio a FIFA o Messi merece demais\n",
      "66 RT @InfosFuteboI: #Messi presente na cerimônia dos melhores do ano da FIFA! #TheBestAwards https://t.co/ZPgshhV06n\n",
      "67 RT @GustavoTinti_: Cristiano Ronaldo merecia o prêmio ano passado e quem levou foi Modric.\n",
      "\n",
      "Se a FIFA seguir a mesma lógica, como Messi mer…\n",
      "68 RT @InfosFuteboI: #Messi presente na cerimônia dos melhores do ano da FIFA! #TheBestAwards https://t.co/ZPgshhV06n\n",
      "69 RT @InfosFuteboI: #Messi presente na cerimônia dos melhores do ano da FIFA! #TheBestAwards https://t.co/ZPgshhV06n\n",
      "70 @boliviazica FIFA roubou a do CR7 ano passado e vai tirar do Messi esse ano\n",
      "71 RT @InfosFuteboI: #Messi presente na cerimônia dos melhores do ano da FIFA! #TheBestAwards https://t.co/ZPgshhV06n\n",
      "72 RT @InfosFuteboI: #Messi presente na cerimônia dos melhores do ano da FIFA! #TheBestAwards https://t.co/ZPgshhV06n\n",
      "73 RT @InfosFuteboI: #Messi presente na cerimônia dos melhores do ano da FIFA! #TheBestAwards https://t.co/ZPgshhV06n\n",
      "74 RT @PortalMessi: Messi em sessão de fotos para a FIFA! #TheBestAwards https://t.co/rzUrnRMTHL\n",
      "75 RT @InfosFuteboI: #Messi presente na cerimônia dos melhores do ano da FIFA! #TheBestAwards https://t.co/ZPgshhV06n\n",
      "76 RT @MessiLeoBrasil: #Messi já está na cerimônia da Fifa!\n",
      "\n",
      "👽 https://t.co/sOysPFfxDS\n",
      "77 RT @InfosFuteboI: #Messi presente na cerimônia dos melhores do ano da FIFA! #TheBestAwards https://t.co/ZPgshhV06n\n",
      "78 RT @meurmadrid: 👉 Nossa redação votou (sem o coração) e o nosso #TheBest de Melhor Jogador ficou assim. Lembrando que respeitamos a escolha…\n",
      "79 RT @InfosFuteboI: #Messi presente na cerimônia dos melhores do ano da FIFA! #TheBestAwards https://t.co/ZPgshhV06n\n",
      "80 O Melhor do mundo: Van Dijk\n",
      "A melhor do mundo: Rapinoe\n",
      "Melhor técnico: Jurgen Kloop\n",
      "Melhor técnica: Jill Ellis\n",
      "\n",
      "Fif… https://t.co/OL8ObayOFm\n",
      "81 se messi n ganhar eu vou explodir a fifa\n",
      "82 RT @oestadoma: Ronaldo e Messi disputam hegemonia na premiação da Fifa e Van Dijk corre por fora https://t.co/P63ZVpckz0 #TheBest #Messi #C…\n",
      "83 RT @InfosFuteboI: #Messi presente na cerimônia dos melhores do ano da FIFA! #TheBestAwards https://t.co/ZPgshhV06n\n",
      "84 RT @DonaLuciaHexa: Sobre o prêmio melhor da FIFA:\n",
      "\n",
      "Quem não deveria nem concorrer nesta temporada: CR7\n",
      "Quem acham que deveria ganhar: Messi…\n",
      "85 RT @MessiLeoBrasil: #Messi já está na cerimônia da Fifa!\n",
      "\n",
      "👽 https://t.co/sOysPFfxDS\n",
      "86 RT @InfosFuteboI: #Messi presente na cerimônia dos melhores do ano da FIFA! #TheBestAwards https://t.co/ZPgshhV06n\n",
      "87 RT @MessiLeoBrasil: #Messi já está na cerimônia da Fifa!\n",
      "\n",
      "👽 https://t.co/sOysPFfxDS\n",
      "88 RT @MessiLeoBrasil: #Messi já está na cerimônia da Fifa!\n",
      "\n",
      "👽 https://t.co/sOysPFfxDS\n",
      "89 RT @MessiLeoBrasil: #Messi já está na cerimônia da Fifa!\n",
      "\n",
      "👽 https://t.co/sOysPFfxDS\n",
      "90 RT @Fail_Futebol: A família #Messi indo ver a FIFA tirar mais um prêmio dele. 🤩🤩🤩 https://t.co/4Ms1nj2JWH\n",
      "91 RT @CaioReis_42: Se o Van Vidijk ganhar esse prêmio hoje, eu vou me jogar do 8° andar. Que se foda! Fifa tá pensando que o Messi é BABACA ,…\n",
      "92 Alisson; Alexsander Arnold, De Ligt, Vin Dijk e Robertson; De Jong, Bernardo Silva; Hazard, Mané, Messi e Ronaldo.… https://t.co/Ch6CsXBSdi\n",
      "93 RT @globoesportecom: A Fifa escolhe logo mais o melhor jogador do mundo. Quem leva: Cristiano Ronaldo, Van Dijk ou Messi? https://t.co/NRea…\n",
      "94 RT @InfosFuteboI: #Messi presente na cerimônia dos melhores do ano da FIFA! #TheBestAwards https://t.co/ZPgshhV06n\n",
      "95 RT @MessiLeoBrasil: #Messi já está na cerimônia da Fifa!\n",
      "\n",
      "👽 https://t.co/sOysPFfxDS\n",
      "96 assistindo a premiação da fifa só pra ouvir o messi sendo o melhor do mundo pela 6º vez 👽\n",
      "97 RT @InfosFuteboI: #Messi presente na cerimônia dos melhores do ano da FIFA! #TheBestAwards https://t.co/ZPgshhV06n\n",
      "98 RT @PortalMessi: Messi em sessão de fotos para a FIFA! #TheBestAwards https://t.co/rzUrnRMTHL\n",
      "99 RT @InfosFuteboI: #Messi presente na cerimônia dos melhores do ano da FIFA! #TheBestAwards https://t.co/ZPgshhV06n\n",
      "100 RT @BarcaBrasiI: ✈️ Messi, Ter Stegen e De Jong (juntamente com suas excelentíssimas) a caminho da cerimônia da FIFA para a premiação do \"T…\n"
     ]
    }
   ],
   "source": [
    "for i, tweet in enumerate(tweets, start=1):\n",
    "    print(i, tweet.text)"
   ]
  },
  {
   "cell_type": "code",
   "execution_count": null,
   "metadata": {},
   "outputs": [],
   "source": []
  }
 ],
 "metadata": {
  "kernelspec": {
   "display_name": "Python 3",
   "language": "python",
   "name": "python3"
  },
  "language_info": {
   "codemirror_mode": {
    "name": "ipython",
    "version": 3
   },
   "file_extension": ".py",
   "mimetype": "text/x-python",
   "name": "python",
   "nbconvert_exporter": "python",
   "pygments_lexer": "ipython3",
   "version": "3.7.3"
  }
 },
 "nbformat": 4,
 "nbformat_minor": 2
}
