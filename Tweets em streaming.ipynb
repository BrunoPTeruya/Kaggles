{
 "cells": [
  {
   "cell_type": "markdown",
   "metadata": {},
   "source": [
    "### API Streaming do Twitter\n",
    "\n",
    "#### API streaming do Twitter nos permite ter acesso contínuo de novos tweets. É muito usado para rastrear um determinado assunto ou tópico específico. Para tanto utilizaremos uma instância da classe tweepy.Stream.\n",
    "\n",
    "Para termos acesso a essas funcionalidades precisamos de credenciais do Twitter. Com um conta criada é possível ver as credenciais em:\n",
    "\n",
    ">[developer.twitter.com](https://developer.twitter.com/) -> ‘Usuário‘ -> Apps -> Details -> Keys and tokens\n",
    "\n",
    "É necessário buscar:\n",
    "*\tConsumer Key\n",
    "*\tConsumer Secret\n",
    "*\tAcces Token\n",
    "*\tAcces Token Secret\n",
    "\n"
   ]
  },
  {
   "cell_type": "code",
   "execution_count": null,
   "metadata": {},
   "outputs": [],
   "source": [
    "consumer_key = ''\n",
    "consumer_secret = ''\n",
    "access_token = ''\n",
    "access_token_secret = ''"
   ]
  },
  {
   "cell_type": "code",
   "execution_count": null,
   "metadata": {},
   "outputs": [],
   "source": [
    "from time import time\n",
    "import tweepy"
   ]
  },
  {
   "cell_type": "code",
   "execution_count": null,
   "metadata": {},
   "outputs": [],
   "source": [
    "autorizar = tweepy.OAuthHandler(consumer_key, consumer_secret)"
   ]
  },
  {
   "cell_type": "code",
   "execution_count": null,
   "metadata": {},
   "outputs": [],
   "source": [
    "autorizar.set_access_token(access_token, access_token_secret)"
   ]
  },
  {
   "cell_type": "markdown",
   "metadata": {},
   "source": [
    "#### Com o módulo Tweepy podemos acessar a API do Twitter"
   ]
  },
  {
   "cell_type": "code",
   "execution_count": null,
   "metadata": {},
   "outputs": [],
   "source": [
    "api = tweepy.API(autorizar)"
   ]
  },
  {
   "cell_type": "code",
   "execution_count": null,
   "metadata": {},
   "outputs": [],
   "source": [
    "print(api)"
   ]
  },
  {
   "cell_type": "markdown",
   "metadata": {},
   "source": [
    "#### Usaremos uma hierarquia de classes e colocaremos o método on_data que irá receber todas as mensagens."
   ]
  },
  {
   "cell_type": "code",
   "execution_count": null,
   "metadata": {},
   "outputs": [],
   "source": [
    "class Dados_Twitter(tweepy.StreamListener):\n",
    "    \n",
    "    def __init__(self, nome_arq, limite):\n",
    "        self.tempo_inicial = time()\n",
    "        self.limite = limite\n",
    "        self.salvar_arquivos = open(nome_arq, mode='a', newline='')\n",
    "# A opção de usar o método newline=’ ‘ é para que o arquivo tenho separação entre os tweets salvos.    \n",
    "    def on_data(self, dados):\n",
    "        if (time() - self.tempo_inicial < self.limite):\n",
    "            self.salvar_arquivos.write(dados)\n",
    "            return True\n",
    "        else:\n",
    "            self.salvar_arquivos.close()\n",
    "            return False"
   ]
  },
  {
   "cell_type": "markdown",
   "metadata": {},
   "source": [
    "Para termos um tempo determinado de captação de tweets usamos time() para saber o tempo inicial e fazemos um laço para iterar com o tempo corrente. Comparamos com o tempo limite para pararmos a captação. "
   ]
  },
  {
   "cell_type": "markdown",
   "metadata": {},
   "source": [
    "Os dados recuperados pela API estão no formato JSON. Precisamos criar um arquivo (tweets_60s.json) para receber esses dados. Para isso utilizaremos o open com mode=’a’. Esse modo está descrito como: “open for writing, appending to the end of the file if it exists”. "
   ]
  },
  {
   "cell_type": "code",
   "execution_count": null,
   "metadata": {},
   "outputs": [],
   "source": [
    "nome_arq = 'tweets_60s.json'\n",
    "dados_twitter = Dados_Twitter(nome_arq, 60)"
   ]
  },
  {
   "cell_type": "markdown",
   "metadata": {},
   "source": [
    "Finalmente, usamos o filter() para selecionarmos os termos que queremos buscar. Com o track montamos um array de termos que gostaríamos."
   ]
  },
  {
   "cell_type": "code",
   "execution_count": null,
   "metadata": {},
   "outputs": [],
   "source": [
    "fluxo = tweepy.Stream(autorizar, dados_twitter)\n",
    "\n",
    "fluxo.filter(track=['Neymar'], languages=['pt'])"
   ]
  },
  {
   "cell_type": "markdown",
   "metadata": {},
   "source": [
    "Salvamos um arquivo que recebe dados no formato json."
   ]
  },
  {
   "cell_type": "code",
   "execution_count": null,
   "metadata": {},
   "outputs": [],
   "source": [
    "import json\n",
    "import pandas as pd\n",
    "\n",
    "dados = []\n",
    "\n",
    "#Com o with podemos garantir finalização de recursos adquiridos.\n",
    "#Nesse caso garantindo que o arquivo será aberto e fechado.\n",
    "with open('tweets_60s.json') as arquivo:\n",
    "    for linha in arquivo:\n",
    "        dados.append(json.loads(linha))"
   ]
  },
  {
   "cell_type": "code",
   "execution_count": null,
   "metadata": {},
   "outputs": [],
   "source": [
    "#Chamando dados[0] podemos ver a estrutura de um tweet.\n",
    "\n",
    "dados[0]"
   ]
  },
  {
   "cell_type": "markdown",
   "metadata": {},
   "source": [
    "Colocamos então nossa captura de 60 segundos em um dataframe do pandas."
   ]
  },
  {
   "cell_type": "code",
   "execution_count": null,
   "metadata": {},
   "outputs": [],
   "source": [
    "df = pd.DataFrame(dados)"
   ]
  },
  {
   "cell_type": "code",
   "execution_count": null,
   "metadata": {},
   "outputs": [],
   "source": [
    "print(df.columns)"
   ]
  },
  {
   "cell_type": "code",
   "execution_count": null,
   "metadata": {},
   "outputs": [],
   "source": [
    "df.head()"
   ]
  },
  {
   "cell_type": "code",
   "execution_count": null,
   "metadata": {},
   "outputs": [],
   "source": [
    "len(df)"
   ]
  },
  {
   "cell_type": "markdown",
   "metadata": {},
   "source": [
    "Queremos buscar de cada tweet: text, created_at, screen_name, followers_count."
   ]
  },
  {
   "cell_type": "code",
   "execution_count": null,
   "metadata": {},
   "outputs": [],
   "source": [
    "print(df['text'][0])\n",
    "print(df['created_at'][0])\n",
    "print(df['user'][0]['screen_name'])\n",
    "print(df['user'][0]['followers_count'])"
   ]
  },
  {
   "cell_type": "markdown",
   "metadata": {},
   "source": [
    "Vamos criar uma lista justamente com o queremos dos tweets."
   ]
  },
  {
   "cell_type": "code",
   "execution_count": null,
   "metadata": {},
   "outputs": [],
   "source": [
    "colunas = ['text', 'created_at', 'screen_name', 'followers_count']"
   ]
  },
  {
   "cell_type": "code",
   "execution_count": null,
   "metadata": {},
   "outputs": [],
   "source": [
    "#Vamos criar um dataframe auxiliar para salvar somente os dados que queremos.\n",
    "\n",
    "df_aux = pd.DataFrame(columns=colunas)\n",
    "df_aux"
   ]
  },
  {
   "cell_type": "code",
   "execution_count": null,
   "metadata": {},
   "outputs": [],
   "source": [
    "for i in range(0, len(df)):\n",
    "    dados = [\n",
    "        df['text'][i],\n",
    "        df['created_at'][i],\n",
    "        df['user'][i]['screen_name'],\n",
    "        df['user'][i]['followers_count'],\n",
    "        ]\n",
    "    series = pd.Series(dados,index=colunas)\n",
    "    df_aux = df_aux.append(series, ignore_index=True)"
   ]
  },
  {
   "cell_type": "code",
   "execution_count": null,
   "metadata": {},
   "outputs": [],
   "source": [
    "print(df_aux)"
   ]
  },
  {
   "cell_type": "markdown",
   "metadata": {},
   "source": [
    "Por fim, salvamos o arquivo com as informações que queremos"
   ]
  },
  {
   "cell_type": "code",
   "execution_count": null,
   "metadata": {},
   "outputs": [],
   "source": [
    "#df_aux.to_csv('tweets_60s.csv', sep=';', encoding='utf-8', index=False)"
   ]
  },
  {
   "cell_type": "markdown",
   "metadata": {},
   "source": [
    "https://tweepy.readthedocs.io/en/latest/streaming_how_to.html"
   ]
  }
 ],
 "metadata": {
  "kernelspec": {
   "display_name": "Python 3",
   "language": "python",
   "name": "python3"
  },
  "language_info": {
   "codemirror_mode": {
    "name": "ipython",
    "version": 3
   },
   "file_extension": ".py",
   "mimetype": "text/x-python",
   "name": "python",
   "nbconvert_exporter": "python",
   "pygments_lexer": "ipython3",
   "version": "3.7.3"
  }
 },
 "nbformat": 4,
 "nbformat_minor": 2
}
