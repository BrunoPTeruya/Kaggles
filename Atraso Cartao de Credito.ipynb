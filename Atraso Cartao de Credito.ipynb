{
 "cells": [
  {
   "cell_type": "markdown",
   "metadata": {},
   "source": [
    "**Seleção de Variáveis:**\n",
    "\n",
    "* Chi Quadrado\n",
    "* RFE\n",
    "* Random Forest\n",
    "* Variance Threshold"
   ]
  },
  {
   "cell_type": "markdown",
   "metadata": {},
   "source": [
    "**Análise utilizando os seguintes algorótimos:**\n",
    "\n",
    "* Regressão Logística\n",
    "* Random Forest\n",
    "* GB"
   ]
  },
  {
   "cell_type": "code",
   "execution_count": 1,
   "metadata": {},
   "outputs": [],
   "source": [
    "import numpy as np\n",
    "import pandas as pd\n",
    "import matplotlib.pyplot as plt\n",
    "import seaborn as sns\n",
    "%matplotlib inline\n",
    "\n",
    "import warnings\n",
    "warnings.filterwarnings(\"ignore\")"
   ]
  },
  {
   "cell_type": "code",
   "execution_count": 2,
   "metadata": {},
   "outputs": [],
   "source": [
    "df = pd.read_csv('AtrasoCartaoCredito.csv')"
   ]
  },
  {
   "cell_type": "code",
   "execution_count": 3,
   "metadata": {},
   "outputs": [
    {
     "data": {
      "text/html": [
       "<div>\n",
       "<style scoped>\n",
       "    .dataframe tbody tr th:only-of-type {\n",
       "        vertical-align: middle;\n",
       "    }\n",
       "\n",
       "    .dataframe tbody tr th {\n",
       "        vertical-align: top;\n",
       "    }\n",
       "\n",
       "    .dataframe thead th {\n",
       "        text-align: right;\n",
       "    }\n",
       "</style>\n",
       "<table border=\"1\" class=\"dataframe\">\n",
       "  <thead>\n",
       "    <tr style=\"text-align: right;\">\n",
       "      <th></th>\n",
       "      <th>ID</th>\n",
       "      <th>Target</th>\n",
       "      <th>GrupoEconomico</th>\n",
       "      <th>Sexo</th>\n",
       "      <th>Idade</th>\n",
       "      <th>GrupoRisco</th>\n",
       "      <th>ValorCompraAnual</th>\n",
       "      <th>GastoMax</th>\n",
       "      <th>GastoMedio</th>\n",
       "      <th>UF</th>\n",
       "      <th>CidadeResidencia</th>\n",
       "      <th>RegiaodoPais</th>\n",
       "      <th>NumeroComprasOnline</th>\n",
       "    </tr>\n",
       "  </thead>\n",
       "  <tbody>\n",
       "    <tr>\n",
       "      <th>0</th>\n",
       "      <td>1</td>\n",
       "      <td>0</td>\n",
       "      <td>3</td>\n",
       "      <td>homem</td>\n",
       "      <td>22</td>\n",
       "      <td>1</td>\n",
       "      <td>7250.0</td>\n",
       "      <td>517.857143</td>\n",
       "      <td>604.166667</td>\n",
       "      <td>MG</td>\n",
       "      <td>Morada Nova de Minas</td>\n",
       "      <td>Região Sudeste</td>\n",
       "      <td>54.924242</td>\n",
       "    </tr>\n",
       "    <tr>\n",
       "      <th>1</th>\n",
       "      <td>2</td>\n",
       "      <td>1</td>\n",
       "      <td>1</td>\n",
       "      <td>mulher</td>\n",
       "      <td>38</td>\n",
       "      <td>1</td>\n",
       "      <td>71283.0</td>\n",
       "      <td>5091.642857</td>\n",
       "      <td>5940.250000</td>\n",
       "      <td>RN</td>\n",
       "      <td>Marcelino Vieira</td>\n",
       "      <td>Região Nordeste</td>\n",
       "      <td>312.644737</td>\n",
       "    </tr>\n",
       "    <tr>\n",
       "      <th>2</th>\n",
       "      <td>3</td>\n",
       "      <td>1</td>\n",
       "      <td>3</td>\n",
       "      <td>mulher</td>\n",
       "      <td>26</td>\n",
       "      <td>0</td>\n",
       "      <td>7925.0</td>\n",
       "      <td>566.071429</td>\n",
       "      <td>660.416667</td>\n",
       "      <td>PR</td>\n",
       "      <td>Agudos do Sul</td>\n",
       "      <td>Região Sul</td>\n",
       "      <td>50.801282</td>\n",
       "    </tr>\n",
       "    <tr>\n",
       "      <th>3</th>\n",
       "      <td>4</td>\n",
       "      <td>1</td>\n",
       "      <td>1</td>\n",
       "      <td>mulher</td>\n",
       "      <td>35</td>\n",
       "      <td>1</td>\n",
       "      <td>531.0</td>\n",
       "      <td>37.928571</td>\n",
       "      <td>44.250000</td>\n",
       "      <td>PR</td>\n",
       "      <td>Congonhinhas</td>\n",
       "      <td>Região Sul</td>\n",
       "      <td>2.528571</td>\n",
       "    </tr>\n",
       "    <tr>\n",
       "      <th>4</th>\n",
       "      <td>5</td>\n",
       "      <td>0</td>\n",
       "      <td>3</td>\n",
       "      <td>homem</td>\n",
       "      <td>35</td>\n",
       "      <td>0</td>\n",
       "      <td>805.0</td>\n",
       "      <td>57.500000</td>\n",
       "      <td>67.083333</td>\n",
       "      <td>BA</td>\n",
       "      <td>Morpará</td>\n",
       "      <td>Região Nordeste</td>\n",
       "      <td>3.833333</td>\n",
       "    </tr>\n",
       "  </tbody>\n",
       "</table>\n",
       "</div>"
      ],
      "text/plain": [
       "   ID  Target  GrupoEconomico    Sexo  Idade  GrupoRisco  ValorCompraAnual  \\\n",
       "0   1       0               3   homem     22           1            7250.0   \n",
       "1   2       1               1  mulher     38           1           71283.0   \n",
       "2   3       1               3  mulher     26           0            7925.0   \n",
       "3   4       1               1  mulher     35           1             531.0   \n",
       "4   5       0               3   homem     35           0             805.0   \n",
       "\n",
       "      GastoMax   GastoMedio  UF      CidadeResidencia     RegiaodoPais  \\\n",
       "0   517.857143   604.166667  MG  Morada Nova de Minas   Região Sudeste   \n",
       "1  5091.642857  5940.250000  RN      Marcelino Vieira  Região Nordeste   \n",
       "2   566.071429   660.416667  PR         Agudos do Sul       Região Sul   \n",
       "3    37.928571    44.250000  PR          Congonhinhas       Região Sul   \n",
       "4    57.500000    67.083333  BA               Morpará  Região Nordeste   \n",
       "\n",
       "   NumeroComprasOnline  \n",
       "0            54.924242  \n",
       "1           312.644737  \n",
       "2            50.801282  \n",
       "3             2.528571  \n",
       "4             3.833333  "
      ]
     },
     "execution_count": 3,
     "metadata": {},
     "output_type": "execute_result"
    }
   ],
   "source": [
    "df.head()"
   ]
  },
  {
   "cell_type": "code",
   "execution_count": 4,
   "metadata": {},
   "outputs": [
    {
     "data": {
      "text/plain": [
       "(891, 13)"
      ]
     },
     "execution_count": 4,
     "metadata": {},
     "output_type": "execute_result"
    }
   ],
   "source": [
    "df.shape"
   ]
  },
  {
   "cell_type": "code",
   "execution_count": 5,
   "metadata": {},
   "outputs": [
    {
     "name": "stdout",
     "output_type": "stream",
     "text": [
      "<class 'pandas.core.frame.DataFrame'>\n",
      "RangeIndex: 891 entries, 0 to 890\n",
      "Data columns (total 13 columns):\n",
      "ID                     891 non-null int64\n",
      "Target                 891 non-null int64\n",
      "GrupoEconomico         891 non-null int64\n",
      "Sexo                   891 non-null object\n",
      "Idade                  891 non-null int64\n",
      "GrupoRisco             891 non-null int64\n",
      "ValorCompraAnual       863 non-null float64\n",
      "GastoMax               891 non-null float64\n",
      "GastoMedio             891 non-null float64\n",
      "UF                     891 non-null object\n",
      "CidadeResidencia       891 non-null object\n",
      "RegiaodoPais           891 non-null object\n",
      "NumeroComprasOnline    891 non-null float64\n",
      "dtypes: float64(4), int64(5), object(4)\n",
      "memory usage: 90.6+ KB\n"
     ]
    }
   ],
   "source": [
    "df.info()"
   ]
  },
  {
   "cell_type": "code",
   "execution_count": 6,
   "metadata": {},
   "outputs": [
    {
     "data": {
      "text/plain": [
       "ID                      0\n",
       "Target                  0\n",
       "GrupoEconomico          0\n",
       "Sexo                    0\n",
       "Idade                   0\n",
       "GrupoRisco              0\n",
       "ValorCompraAnual       28\n",
       "GastoMax                0\n",
       "GastoMedio              0\n",
       "UF                      0\n",
       "CidadeResidencia        0\n",
       "RegiaodoPais            0\n",
       "NumeroComprasOnline     0\n",
       "dtype: int64"
      ]
     },
     "execution_count": 6,
     "metadata": {},
     "output_type": "execute_result"
    }
   ],
   "source": [
    "df.isnull().sum()"
   ]
  },
  {
   "cell_type": "code",
   "execution_count": 7,
   "metadata": {},
   "outputs": [],
   "source": [
    "df.fillna(df.ValorCompraAnual.mean(), inplace=True)"
   ]
  },
  {
   "cell_type": "code",
   "execution_count": 8,
   "metadata": {},
   "outputs": [],
   "source": [
    "df.drop(columns=['ID'], inplace=True)"
   ]
  },
  {
   "cell_type": "code",
   "execution_count": 9,
   "metadata": {},
   "outputs": [
    {
     "data": {
      "text/html": [
       "<div>\n",
       "<style scoped>\n",
       "    .dataframe tbody tr th:only-of-type {\n",
       "        vertical-align: middle;\n",
       "    }\n",
       "\n",
       "    .dataframe tbody tr th {\n",
       "        vertical-align: top;\n",
       "    }\n",
       "\n",
       "    .dataframe thead th {\n",
       "        text-align: right;\n",
       "    }\n",
       "</style>\n",
       "<table border=\"1\" class=\"dataframe\">\n",
       "  <thead>\n",
       "    <tr style=\"text-align: right;\">\n",
       "      <th></th>\n",
       "      <th>Target</th>\n",
       "      <th>GrupoEconomico</th>\n",
       "      <th>Idade</th>\n",
       "      <th>GrupoRisco</th>\n",
       "      <th>ValorCompraAnual</th>\n",
       "      <th>GastoMax</th>\n",
       "      <th>GastoMedio</th>\n",
       "      <th>NumeroComprasOnline</th>\n",
       "    </tr>\n",
       "  </thead>\n",
       "  <tbody>\n",
       "    <tr>\n",
       "      <th>count</th>\n",
       "      <td>891.000000</td>\n",
       "      <td>891.000000</td>\n",
       "      <td>891.000000</td>\n",
       "      <td>891.000000</td>\n",
       "      <td>8.910000e+02</td>\n",
       "      <td>891.000000</td>\n",
       "      <td>891.000000</td>\n",
       "      <td>8.910000e+02</td>\n",
       "    </tr>\n",
       "    <tr>\n",
       "      <th>mean</th>\n",
       "      <td>0.383838</td>\n",
       "      <td>2.308642</td>\n",
       "      <td>30.402918</td>\n",
       "      <td>0.523008</td>\n",
       "      <td>1.138834e+05</td>\n",
       "      <td>8278.971380</td>\n",
       "      <td>9658.799944</td>\n",
       "      <td>4.879393e+04</td>\n",
       "    </tr>\n",
       "    <tr>\n",
       "      <th>std</th>\n",
       "      <td>0.486592</td>\n",
       "      <td>0.836071</td>\n",
       "      <td>12.579024</td>\n",
       "      <td>1.102743</td>\n",
       "      <td>3.913635e+05</td>\n",
       "      <td>28684.456627</td>\n",
       "      <td>33465.199399</td>\n",
       "      <td>1.154341e+06</td>\n",
       "    </tr>\n",
       "    <tr>\n",
       "      <th>min</th>\n",
       "      <td>0.000000</td>\n",
       "      <td>1.000000</td>\n",
       "      <td>10.000000</td>\n",
       "      <td>0.000000</td>\n",
       "      <td>0.000000e+00</td>\n",
       "      <td>0.000000</td>\n",
       "      <td>0.000000</td>\n",
       "      <td>0.000000e+00</td>\n",
       "    </tr>\n",
       "    <tr>\n",
       "      <th>25%</th>\n",
       "      <td>0.000000</td>\n",
       "      <td>2.000000</td>\n",
       "      <td>22.000000</td>\n",
       "      <td>0.000000</td>\n",
       "      <td>1.780000e+02</td>\n",
       "      <td>11.500000</td>\n",
       "      <td>13.416667</td>\n",
       "      <td>1.096117e+00</td>\n",
       "    </tr>\n",
       "    <tr>\n",
       "      <th>50%</th>\n",
       "      <td>0.000000</td>\n",
       "      <td>3.000000</td>\n",
       "      <td>26.000000</td>\n",
       "      <td>0.000000</td>\n",
       "      <td>2.655000e+03</td>\n",
       "      <td>172.500000</td>\n",
       "      <td>201.250000</td>\n",
       "      <td>1.321429e+01</td>\n",
       "    </tr>\n",
       "    <tr>\n",
       "      <th>75%</th>\n",
       "      <td>1.000000</td>\n",
       "      <td>3.000000</td>\n",
       "      <td>36.000000</td>\n",
       "      <td>1.000000</td>\n",
       "      <td>7.895800e+04</td>\n",
       "      <td>5628.000000</td>\n",
       "      <td>6566.000000</td>\n",
       "      <td>5.728338e+02</td>\n",
       "    </tr>\n",
       "    <tr>\n",
       "      <th>max</th>\n",
       "      <td>1.000000</td>\n",
       "      <td>3.000000</td>\n",
       "      <td>92.000000</td>\n",
       "      <td>8.000000</td>\n",
       "      <td>5.123292e+06</td>\n",
       "      <td>365949.428571</td>\n",
       "      <td>426941.000000</td>\n",
       "      <td>3.410762e+07</td>\n",
       "    </tr>\n",
       "  </tbody>\n",
       "</table>\n",
       "</div>"
      ],
      "text/plain": [
       "           Target  GrupoEconomico       Idade  GrupoRisco  ValorCompraAnual  \\\n",
       "count  891.000000      891.000000  891.000000  891.000000      8.910000e+02   \n",
       "mean     0.383838        2.308642   30.402918    0.523008      1.138834e+05   \n",
       "std      0.486592        0.836071   12.579024    1.102743      3.913635e+05   \n",
       "min      0.000000        1.000000   10.000000    0.000000      0.000000e+00   \n",
       "25%      0.000000        2.000000   22.000000    0.000000      1.780000e+02   \n",
       "50%      0.000000        3.000000   26.000000    0.000000      2.655000e+03   \n",
       "75%      1.000000        3.000000   36.000000    1.000000      7.895800e+04   \n",
       "max      1.000000        3.000000   92.000000    8.000000      5.123292e+06   \n",
       "\n",
       "            GastoMax     GastoMedio  NumeroComprasOnline  \n",
       "count     891.000000     891.000000         8.910000e+02  \n",
       "mean     8278.971380    9658.799944         4.879393e+04  \n",
       "std     28684.456627   33465.199399         1.154341e+06  \n",
       "min         0.000000       0.000000         0.000000e+00  \n",
       "25%        11.500000      13.416667         1.096117e+00  \n",
       "50%       172.500000     201.250000         1.321429e+01  \n",
       "75%      5628.000000    6566.000000         5.728338e+02  \n",
       "max    365949.428571  426941.000000         3.410762e+07  "
      ]
     },
     "execution_count": 9,
     "metadata": {},
     "output_type": "execute_result"
    }
   ],
   "source": [
    "df.describe()"
   ]
  },
  {
   "cell_type": "code",
   "execution_count": 10,
   "metadata": {},
   "outputs": [
    {
     "data": {
      "text/plain": [
       "<matplotlib.axes._subplots.AxesSubplot at 0x238da9b6780>"
      ]
     },
     "execution_count": 10,
     "metadata": {},
     "output_type": "execute_result"
    },
    {
     "data": {
      "image/png": "[encoded data removed]",
      "text/plain": [
       "<Figure size 432x288 with 1 Axes>"
      ]
     },
     "metadata": {
      "needs_background": "light"
     },
     "output_type": "display_data"
    }
   ],
   "source": [
    "df.GastoMedio.plot(kind='box')"
   ]
  },
  {
   "cell_type": "code",
   "execution_count": 11,
   "metadata": {},
   "outputs": [
    {
     "data": {
      "text/html": [
       "<div>\n",
       "<style scoped>\n",
       "    .dataframe tbody tr th:only-of-type {\n",
       "        vertical-align: middle;\n",
       "    }\n",
       "\n",
       "    .dataframe tbody tr th {\n",
       "        vertical-align: top;\n",
       "    }\n",
       "\n",
       "    .dataframe thead th {\n",
       "        text-align: right;\n",
       "    }\n",
       "</style>\n",
       "<table border=\"1\" class=\"dataframe\">\n",
       "  <thead>\n",
       "    <tr style=\"text-align: right;\">\n",
       "      <th></th>\n",
       "      <th>Target</th>\n",
       "      <th>GrupoEconomico</th>\n",
       "      <th>Sexo</th>\n",
       "      <th>Idade</th>\n",
       "      <th>GrupoRisco</th>\n",
       "      <th>ValorCompraAnual</th>\n",
       "      <th>GastoMax</th>\n",
       "      <th>GastoMedio</th>\n",
       "      <th>UF</th>\n",
       "      <th>CidadeResidencia</th>\n",
       "      <th>RegiaodoPais</th>\n",
       "      <th>NumeroComprasOnline</th>\n",
       "    </tr>\n",
       "  </thead>\n",
       "  <tbody>\n",
       "    <tr>\n",
       "      <th>258</th>\n",
       "      <td>1</td>\n",
       "      <td>1</td>\n",
       "      <td>mulher</td>\n",
       "      <td>35</td>\n",
       "      <td>0</td>\n",
       "      <td>5123292.0</td>\n",
       "      <td>365949.428571</td>\n",
       "      <td>426941.0</td>\n",
       "      <td>BA</td>\n",
       "      <td>América Dourada</td>\n",
       "      <td>Região Nordeste</td>\n",
       "      <td>24396.628571</td>\n",
       "    </tr>\n",
       "    <tr>\n",
       "      <th>679</th>\n",
       "      <td>1</td>\n",
       "      <td>1</td>\n",
       "      <td>homem</td>\n",
       "      <td>36</td>\n",
       "      <td>0</td>\n",
       "      <td>5123292.0</td>\n",
       "      <td>365949.428571</td>\n",
       "      <td>426941.0</td>\n",
       "      <td>ES</td>\n",
       "      <td>Bom Jesus do Norte</td>\n",
       "      <td>Região Sudeste</td>\n",
       "      <td>23718.944444</td>\n",
       "    </tr>\n",
       "    <tr>\n",
       "      <th>737</th>\n",
       "      <td>1</td>\n",
       "      <td>1</td>\n",
       "      <td>homem</td>\n",
       "      <td>35</td>\n",
       "      <td>0</td>\n",
       "      <td>5123292.0</td>\n",
       "      <td>365949.428571</td>\n",
       "      <td>426941.0</td>\n",
       "      <td>MT</td>\n",
       "      <td>Alto Paraguai</td>\n",
       "      <td>Região Centro-Oeste</td>\n",
       "      <td>24396.628571</td>\n",
       "    </tr>\n",
       "  </tbody>\n",
       "</table>\n",
       "</div>"
      ],
      "text/plain": [
       "     Target  GrupoEconomico    Sexo  Idade  GrupoRisco  ValorCompraAnual  \\\n",
       "258       1               1  mulher     35           0         5123292.0   \n",
       "679       1               1   homem     36           0         5123292.0   \n",
       "737       1               1   homem     35           0         5123292.0   \n",
       "\n",
       "          GastoMax  GastoMedio  UF    CidadeResidencia         RegiaodoPais  \\\n",
       "258  365949.428571    426941.0  BA     América Dourada      Região Nordeste   \n",
       "679  365949.428571    426941.0  ES  Bom Jesus do Norte       Região Sudeste   \n",
       "737  365949.428571    426941.0  MT       Alto Paraguai  Região Centro-Oeste   \n",
       "\n",
       "     NumeroComprasOnline  \n",
       "258         24396.628571  \n",
       "679         23718.944444  \n",
       "737         24396.628571  "
      ]
     },
     "execution_count": 11,
     "metadata": {},
     "output_type": "execute_result"
    }
   ],
   "source": [
    "df[df.GastoMedio > 400000]"
   ]
  },
  {
   "cell_type": "markdown",
   "metadata": {},
   "source": [
    "O número de compras também é bastante elevado"
   ]
  },
  {
   "cell_type": "code",
   "execution_count": 12,
   "metadata": {},
   "outputs": [],
   "source": [
    "df = pd.get_dummies(df, columns=['GrupoEconomico', 'Sexo', 'GrupoRisco', 'RegiaodoPais'], drop_first=True)"
   ]
  },
  {
   "cell_type": "code",
   "execution_count": 13,
   "metadata": {},
   "outputs": [
    {
     "data": {
      "text/html": [
       "<div>\n",
       "<style scoped>\n",
       "    .dataframe tbody tr th:only-of-type {\n",
       "        vertical-align: middle;\n",
       "    }\n",
       "\n",
       "    .dataframe tbody tr th {\n",
       "        vertical-align: top;\n",
       "    }\n",
       "\n",
       "    .dataframe thead th {\n",
       "        text-align: right;\n",
       "    }\n",
       "</style>\n",
       "<table border=\"1\" class=\"dataframe\">\n",
       "  <thead>\n",
       "    <tr style=\"text-align: right;\">\n",
       "      <th></th>\n",
       "      <th>Target</th>\n",
       "      <th>Idade</th>\n",
       "      <th>ValorCompraAnual</th>\n",
       "      <th>GastoMax</th>\n",
       "      <th>GastoMedio</th>\n",
       "      <th>UF</th>\n",
       "      <th>CidadeResidencia</th>\n",
       "      <th>NumeroComprasOnline</th>\n",
       "      <th>GrupoEconomico_2</th>\n",
       "      <th>GrupoEconomico_3</th>\n",
       "      <th>...</th>\n",
       "      <th>GrupoRisco_1</th>\n",
       "      <th>GrupoRisco_2</th>\n",
       "      <th>GrupoRisco_3</th>\n",
       "      <th>GrupoRisco_4</th>\n",
       "      <th>GrupoRisco_5</th>\n",
       "      <th>GrupoRisco_8</th>\n",
       "      <th>RegiaodoPais_Região Nordeste</th>\n",
       "      <th>RegiaodoPais_Região Norte</th>\n",
       "      <th>RegiaodoPais_Região Sudeste</th>\n",
       "      <th>RegiaodoPais_Região Sul</th>\n",
       "    </tr>\n",
       "  </thead>\n",
       "  <tbody>\n",
       "    <tr>\n",
       "      <th>0</th>\n",
       "      <td>0</td>\n",
       "      <td>22</td>\n",
       "      <td>7250.0</td>\n",
       "      <td>517.857143</td>\n",
       "      <td>604.166667</td>\n",
       "      <td>MG</td>\n",
       "      <td>Morada Nova de Minas</td>\n",
       "      <td>54.924242</td>\n",
       "      <td>0</td>\n",
       "      <td>1</td>\n",
       "      <td>...</td>\n",
       "      <td>1</td>\n",
       "      <td>0</td>\n",
       "      <td>0</td>\n",
       "      <td>0</td>\n",
       "      <td>0</td>\n",
       "      <td>0</td>\n",
       "      <td>0</td>\n",
       "      <td>0</td>\n",
       "      <td>1</td>\n",
       "      <td>0</td>\n",
       "    </tr>\n",
       "  </tbody>\n",
       "</table>\n",
       "<p>1 rows × 21 columns</p>\n",
       "</div>"
      ],
      "text/plain": [
       "   Target  Idade  ValorCompraAnual    GastoMax  GastoMedio  UF  \\\n",
       "0       0     22            7250.0  517.857143  604.166667  MG   \n",
       "\n",
       "       CidadeResidencia  NumeroComprasOnline  GrupoEconomico_2  \\\n",
       "0  Morada Nova de Minas            54.924242                 0   \n",
       "\n",
       "   GrupoEconomico_3  ...  GrupoRisco_1  GrupoRisco_2  GrupoRisco_3  \\\n",
       "0                 1  ...             1             0             0   \n",
       "\n",
       "   GrupoRisco_4  GrupoRisco_5  GrupoRisco_8  RegiaodoPais_Região Nordeste  \\\n",
       "0             0             0             0                             0   \n",
       "\n",
       "   RegiaodoPais_Região Norte  RegiaodoPais_Região Sudeste  \\\n",
       "0                          0                            1   \n",
       "\n",
       "   RegiaodoPais_Região Sul  \n",
       "0                        0  \n",
       "\n",
       "[1 rows x 21 columns]"
      ]
     },
     "execution_count": 13,
     "metadata": {},
     "output_type": "execute_result"
    }
   ],
   "source": [
    "df.head(1)"
   ]
  },
  {
   "cell_type": "code",
   "execution_count": 14,
   "metadata": {},
   "outputs": [
    {
     "data": {
      "text/plain": [
       "<matplotlib.axes._subplots.AxesSubplot at 0x238dacf3748>"
      ]
     },
     "execution_count": 14,
     "metadata": {},
     "output_type": "execute_result"
    },
    {
     "data": {
      "image/png": "[encoded data removed]",
      "text/plain": [
       "<Figure size 864x576 with 1 Axes>"
      ]
     },
     "metadata": {
      "needs_background": "light"
     },
     "output_type": "display_data"
    }
   ],
   "source": [
    "plt.figure(figsize=(12,8))\n",
    "df[df.Target == 1].UF.value_counts().plot(kind='barh')"
   ]
  },
  {
   "cell_type": "code",
   "execution_count": 15,
   "metadata": {},
   "outputs": [],
   "source": [
    "from sklearn.preprocessing import LabelEncoder"
   ]
  },
  {
   "cell_type": "code",
   "execution_count": 16,
   "metadata": {},
   "outputs": [],
   "source": [
    "label = LabelEncoder()\n",
    "label_l = label.fit_transform(df.UF)\n",
    "df.UF = pd.DataFrame(label_l, columns=['LE_UF'])\n",
    "\n",
    "label_2 = label.fit_transform(df.CidadeResidencia)\n",
    "df.CidadeResidencia = pd.DataFrame(label_2, columns=['LE_CidadeResidencia'])"
   ]
  },
  {
   "cell_type": "code",
   "execution_count": 17,
   "metadata": {},
   "outputs": [
    {
     "data": {
      "text/html": [
       "<div>\n",
       "<style scoped>\n",
       "    .dataframe tbody tr th:only-of-type {\n",
       "        vertical-align: middle;\n",
       "    }\n",
       "\n",
       "    .dataframe tbody tr th {\n",
       "        vertical-align: top;\n",
       "    }\n",
       "\n",
       "    .dataframe thead th {\n",
       "        text-align: right;\n",
       "    }\n",
       "</style>\n",
       "<table border=\"1\" class=\"dataframe\">\n",
       "  <thead>\n",
       "    <tr style=\"text-align: right;\">\n",
       "      <th></th>\n",
       "      <th>Target</th>\n",
       "      <th>Idade</th>\n",
       "      <th>ValorCompraAnual</th>\n",
       "      <th>GastoMax</th>\n",
       "      <th>GastoMedio</th>\n",
       "      <th>UF</th>\n",
       "      <th>CidadeResidencia</th>\n",
       "      <th>NumeroComprasOnline</th>\n",
       "      <th>GrupoEconomico_2</th>\n",
       "      <th>GrupoEconomico_3</th>\n",
       "      <th>...</th>\n",
       "      <th>GrupoRisco_1</th>\n",
       "      <th>GrupoRisco_2</th>\n",
       "      <th>GrupoRisco_3</th>\n",
       "      <th>GrupoRisco_4</th>\n",
       "      <th>GrupoRisco_5</th>\n",
       "      <th>GrupoRisco_8</th>\n",
       "      <th>RegiaodoPais_Região Nordeste</th>\n",
       "      <th>RegiaodoPais_Região Norte</th>\n",
       "      <th>RegiaodoPais_Região Sudeste</th>\n",
       "      <th>RegiaodoPais_Região Sul</th>\n",
       "    </tr>\n",
       "  </thead>\n",
       "  <tbody>\n",
       "    <tr>\n",
       "      <th>0</th>\n",
       "      <td>0</td>\n",
       "      <td>22</td>\n",
       "      <td>7250.0</td>\n",
       "      <td>517.857143</td>\n",
       "      <td>604.166667</td>\n",
       "      <td>9</td>\n",
       "      <td>485</td>\n",
       "      <td>54.924242</td>\n",
       "      <td>0</td>\n",
       "      <td>1</td>\n",
       "      <td>...</td>\n",
       "      <td>1</td>\n",
       "      <td>0</td>\n",
       "      <td>0</td>\n",
       "      <td>0</td>\n",
       "      <td>0</td>\n",
       "      <td>0</td>\n",
       "      <td>0</td>\n",
       "      <td>0</td>\n",
       "      <td>1</td>\n",
       "      <td>0</td>\n",
       "    </tr>\n",
       "    <tr>\n",
       "      <th>1</th>\n",
       "      <td>1</td>\n",
       "      <td>38</td>\n",
       "      <td>71283.0</td>\n",
       "      <td>5091.642857</td>\n",
       "      <td>5940.250000</td>\n",
       "      <td>18</td>\n",
       "      <td>452</td>\n",
       "      <td>312.644737</td>\n",
       "      <td>0</td>\n",
       "      <td>0</td>\n",
       "      <td>...</td>\n",
       "      <td>1</td>\n",
       "      <td>0</td>\n",
       "      <td>0</td>\n",
       "      <td>0</td>\n",
       "      <td>0</td>\n",
       "      <td>0</td>\n",
       "      <td>1</td>\n",
       "      <td>0</td>\n",
       "      <td>0</td>\n",
       "      <td>0</td>\n",
       "    </tr>\n",
       "    <tr>\n",
       "      <th>2</th>\n",
       "      <td>1</td>\n",
       "      <td>26</td>\n",
       "      <td>7925.0</td>\n",
       "      <td>566.071429</td>\n",
       "      <td>660.416667</td>\n",
       "      <td>16</td>\n",
       "      <td>8</td>\n",
       "      <td>50.801282</td>\n",
       "      <td>0</td>\n",
       "      <td>1</td>\n",
       "      <td>...</td>\n",
       "      <td>0</td>\n",
       "      <td>0</td>\n",
       "      <td>0</td>\n",
       "      <td>0</td>\n",
       "      <td>0</td>\n",
       "      <td>0</td>\n",
       "      <td>0</td>\n",
       "      <td>0</td>\n",
       "      <td>0</td>\n",
       "      <td>1</td>\n",
       "    </tr>\n",
       "    <tr>\n",
       "      <th>3</th>\n",
       "      <td>1</td>\n",
       "      <td>35</td>\n",
       "      <td>531.0</td>\n",
       "      <td>37.928571</td>\n",
       "      <td>44.250000</td>\n",
       "      <td>16</td>\n",
       "      <td>222</td>\n",
       "      <td>2.528571</td>\n",
       "      <td>0</td>\n",
       "      <td>0</td>\n",
       "      <td>...</td>\n",
       "      <td>1</td>\n",
       "      <td>0</td>\n",
       "      <td>0</td>\n",
       "      <td>0</td>\n",
       "      <td>0</td>\n",
       "      <td>0</td>\n",
       "      <td>0</td>\n",
       "      <td>0</td>\n",
       "      <td>0</td>\n",
       "      <td>1</td>\n",
       "    </tr>\n",
       "    <tr>\n",
       "      <th>4</th>\n",
       "      <td>0</td>\n",
       "      <td>35</td>\n",
       "      <td>805.0</td>\n",
       "      <td>57.500000</td>\n",
       "      <td>67.083333</td>\n",
       "      <td>4</td>\n",
       "      <td>486</td>\n",
       "      <td>3.833333</td>\n",
       "      <td>0</td>\n",
       "      <td>1</td>\n",
       "      <td>...</td>\n",
       "      <td>0</td>\n",
       "      <td>0</td>\n",
       "      <td>0</td>\n",
       "      <td>0</td>\n",
       "      <td>0</td>\n",
       "      <td>0</td>\n",
       "      <td>1</td>\n",
       "      <td>0</td>\n",
       "      <td>0</td>\n",
       "      <td>0</td>\n",
       "    </tr>\n",
       "  </tbody>\n",
       "</table>\n",
       "<p>5 rows × 21 columns</p>\n",
       "</div>"
      ],
      "text/plain": [
       "   Target  Idade  ValorCompraAnual     GastoMax   GastoMedio  UF  \\\n",
       "0       0     22            7250.0   517.857143   604.166667   9   \n",
       "1       1     38           71283.0  5091.642857  5940.250000  18   \n",
       "2       1     26            7925.0   566.071429   660.416667  16   \n",
       "3       1     35             531.0    37.928571    44.250000  16   \n",
       "4       0     35             805.0    57.500000    67.083333   4   \n",
       "\n",
       "   CidadeResidencia  NumeroComprasOnline  GrupoEconomico_2  GrupoEconomico_3  \\\n",
       "0               485            54.924242                 0                 1   \n",
       "1               452           312.644737                 0                 0   \n",
       "2                 8            50.801282                 0                 1   \n",
       "3               222             2.528571                 0                 0   \n",
       "4               486             3.833333                 0                 1   \n",
       "\n",
       "   ...  GrupoRisco_1  GrupoRisco_2  GrupoRisco_3  GrupoRisco_4  GrupoRisco_5  \\\n",
       "0  ...             1             0             0             0             0   \n",
       "1  ...             1             0             0             0             0   \n",
       "2  ...             0             0             0             0             0   \n",
       "3  ...             1             0             0             0             0   \n",
       "4  ...             0             0             0             0             0   \n",
       "\n",
       "   GrupoRisco_8  RegiaodoPais_Região Nordeste  RegiaodoPais_Região Norte  \\\n",
       "0             0                             0                          0   \n",
       "1             0                             1                          0   \n",
       "2             0                             0                          0   \n",
       "3             0                             0                          0   \n",
       "4             0                             1                          0   \n",
       "\n",
       "   RegiaodoPais_Região Sudeste  RegiaodoPais_Região Sul  \n",
       "0                            1                        0  \n",
       "1                            0                        0  \n",
       "2                            0                        1  \n",
       "3                            0                        1  \n",
       "4                            0                        0  \n",
       "\n",
       "[5 rows x 21 columns]"
      ]
     },
     "execution_count": 17,
     "metadata": {},
     "output_type": "execute_result"
    }
   ],
   "source": [
    "df.head()"
   ]
  },
  {
   "cell_type": "code",
   "execution_count": 18,
   "metadata": {},
   "outputs": [],
   "source": [
    "X = df.drop(columns=['Target'])\n",
    "y = df.Target"
   ]
  },
  {
   "cell_type": "markdown",
   "metadata": {},
   "source": [
    "# Seleção de Variáveis"
   ]
  },
  {
   "cell_type": "markdown",
   "metadata": {},
   "source": [
    "### Chi Quadrado"
   ]
  },
  {
   "cell_type": "code",
   "execution_count": 19,
   "metadata": {},
   "outputs": [],
   "source": [
    "from sklearn.feature_selection import SelectKBest, chi2\n",
    "from sklearn.preprocessing import MinMaxScaler"
   ]
  },
  {
   "cell_type": "code",
   "execution_count": 20,
   "metadata": {},
   "outputs": [
    {
     "name": "stdout",
     "output_type": "stream",
     "text": [
      "10 variáveis selecionadas:\n",
      "['ValorCompraAnual', 'GastoMax', 'GastoMedio', 'GrupoEconomico_2', 'GrupoEconomico_3', 'Sexo_mulher', 'GrupoRisco_1', 'GrupoRisco_4', 'GrupoRisco_5', 'GrupoRisco_8']\n"
     ]
    }
   ],
   "source": [
    "x_norm = MinMaxScaler().fit_transform(X)\n",
    "\n",
    "chi2_selector = SelectKBest(chi2)\n",
    "chi2_selector.fit(x_norm, y)\n",
    "\n",
    "chi2_s = chi2_selector.get_support()\n",
    "\n",
    "chi_feature = X.loc[:,chi2_s].columns.tolist()\n",
    "print(str(len(chi_feature)), 'variáveis selecionadas:')\n",
    "print(str(chi_feature))"
   ]
  },
  {
   "cell_type": "markdown",
   "metadata": {},
   "source": [
    "### RFE"
   ]
  },
  {
   "cell_type": "code",
   "execution_count": 21,
   "metadata": {},
   "outputs": [],
   "source": [
    "from sklearn.feature_selection import RFE\n",
    "from sklearn.linear_model import LogisticRegression"
   ]
  },
  {
   "cell_type": "code",
   "execution_count": 22,
   "metadata": {},
   "outputs": [
    {
     "name": "stdout",
     "output_type": "stream",
     "text": [
      "10 variáveis selecionadas:\n",
      "['Idade', 'ValorCompraAnual', 'GastoMax', 'GastoMedio', 'UF', 'CidadeResidencia', 'GrupoEconomico_3', 'Sexo_mulher', 'RegiaodoPais_Região Nordeste', 'RegiaodoPais_Região Sudeste']\n"
     ]
    }
   ],
   "source": [
    "rfe_selector = RFE(estimator=LogisticRegression(), step=10)\n",
    "rfe_selector.fit(X, y)\n",
    "rfe_support = rfe_selector.get_support()\n",
    "rfe_feature = X.loc[:,rfe_support].columns.tolist()\n",
    "\n",
    "print(str(len(rfe_feature)), 'variáveis selecionadas:')\n",
    "print(str(rfe_feature))"
   ]
  },
  {
   "cell_type": "markdown",
   "metadata": {},
   "source": [
    "### Random Forest"
   ]
  },
  {
   "cell_type": "code",
   "execution_count": 23,
   "metadata": {},
   "outputs": [],
   "source": [
    "from sklearn.feature_selection import SelectFromModel\n",
    "from sklearn.ensemble import RandomForestClassifier"
   ]
  },
  {
   "cell_type": "code",
   "execution_count": 24,
   "metadata": {},
   "outputs": [
    {
     "name": "stdout",
     "output_type": "stream",
     "text": [
      "9 variáveis selecionadas:\n",
      "['Idade', 'ValorCompraAnual', 'GastoMax', 'GastoMedio', 'UF', 'CidadeResidencia', 'NumeroComprasOnline', 'GrupoEconomico_3', 'Sexo_mulher']\n"
     ]
    }
   ],
   "source": [
    "em_selector = SelectFromModel(RandomForestClassifier(n_estimators=100))\n",
    "em_selector.fit(X, y)\n",
    "\n",
    "em_support = em_selector.get_support()\n",
    "em_feature = X.loc[:, em_support].columns.tolist()\n",
    "\n",
    "print(str(len(em_feature)), 'variáveis selecionadas:')\n",
    "print(str(em_feature))"
   ]
  },
  {
   "cell_type": "markdown",
   "metadata": {},
   "source": [
    "### Variance Threshold"
   ]
  },
  {
   "cell_type": "code",
   "execution_count": 25,
   "metadata": {},
   "outputs": [],
   "source": [
    "from sklearn.feature_selection import VarianceThreshold"
   ]
  },
  {
   "cell_type": "code",
   "execution_count": 26,
   "metadata": {},
   "outputs": [
    {
     "name": "stdout",
     "output_type": "stream",
     "text": [
      "7 variáveis selecionadas:\n",
      "['Idade', 'ValorCompraAnual', 'GastoMax', 'GastoMedio', 'UF', 'CidadeResidencia', 'NumeroComprasOnline']\n"
     ]
    }
   ],
   "source": [
    "vt_selector = VarianceThreshold(threshold=5)\n",
    "vt_selector.fit_transform(X)\n",
    "\n",
    "vt_support = vt_selector.get_support()\n",
    "vt_feature = X.loc[:, vt_support].columns.tolist()\n",
    "\n",
    "print(str(len(vt_feature)), 'variáveis selecionadas:')\n",
    "print(str(vt_feature))"
   ]
  },
  {
   "cell_type": "code",
   "execution_count": 27,
   "metadata": {},
   "outputs": [
    {
     "data": {
      "text/html": [
       "<div>\n",
       "<style scoped>\n",
       "    .dataframe tbody tr th:only-of-type {\n",
       "        vertical-align: middle;\n",
       "    }\n",
       "\n",
       "    .dataframe tbody tr th {\n",
       "        vertical-align: top;\n",
       "    }\n",
       "\n",
       "    .dataframe thead th {\n",
       "        text-align: right;\n",
       "    }\n",
       "</style>\n",
       "<table border=\"1\" class=\"dataframe\">\n",
       "  <thead>\n",
       "    <tr style=\"text-align: right;\">\n",
       "      <th></th>\n",
       "      <th>Variáveis</th>\n",
       "      <th>chi2</th>\n",
       "      <th>RFE</th>\n",
       "      <th>Random Forest</th>\n",
       "      <th>Variance Threshold</th>\n",
       "      <th>Total</th>\n",
       "    </tr>\n",
       "  </thead>\n",
       "  <tbody>\n",
       "    <tr>\n",
       "      <th>1</th>\n",
       "      <td>ValorCompraAnual</td>\n",
       "      <td>True</td>\n",
       "      <td>True</td>\n",
       "      <td>True</td>\n",
       "      <td>True</td>\n",
       "      <td>4</td>\n",
       "    </tr>\n",
       "    <tr>\n",
       "      <th>3</th>\n",
       "      <td>GastoMedio</td>\n",
       "      <td>True</td>\n",
       "      <td>True</td>\n",
       "      <td>True</td>\n",
       "      <td>True</td>\n",
       "      <td>4</td>\n",
       "    </tr>\n",
       "    <tr>\n",
       "      <th>2</th>\n",
       "      <td>GastoMax</td>\n",
       "      <td>True</td>\n",
       "      <td>True</td>\n",
       "      <td>True</td>\n",
       "      <td>True</td>\n",
       "      <td>4</td>\n",
       "    </tr>\n",
       "    <tr>\n",
       "      <th>4</th>\n",
       "      <td>UF</td>\n",
       "      <td>False</td>\n",
       "      <td>True</td>\n",
       "      <td>True</td>\n",
       "      <td>True</td>\n",
       "      <td>3</td>\n",
       "    </tr>\n",
       "    <tr>\n",
       "      <th>9</th>\n",
       "      <td>Sexo_mulher</td>\n",
       "      <td>True</td>\n",
       "      <td>True</td>\n",
       "      <td>True</td>\n",
       "      <td>False</td>\n",
       "      <td>3</td>\n",
       "    </tr>\n",
       "    <tr>\n",
       "      <th>0</th>\n",
       "      <td>Idade</td>\n",
       "      <td>False</td>\n",
       "      <td>True</td>\n",
       "      <td>True</td>\n",
       "      <td>True</td>\n",
       "      <td>3</td>\n",
       "    </tr>\n",
       "    <tr>\n",
       "      <th>8</th>\n",
       "      <td>GrupoEconomico_3</td>\n",
       "      <td>True</td>\n",
       "      <td>True</td>\n",
       "      <td>True</td>\n",
       "      <td>False</td>\n",
       "      <td>3</td>\n",
       "    </tr>\n",
       "    <tr>\n",
       "      <th>5</th>\n",
       "      <td>CidadeResidencia</td>\n",
       "      <td>False</td>\n",
       "      <td>True</td>\n",
       "      <td>True</td>\n",
       "      <td>True</td>\n",
       "      <td>3</td>\n",
       "    </tr>\n",
       "    <tr>\n",
       "      <th>6</th>\n",
       "      <td>NumeroComprasOnline</td>\n",
       "      <td>False</td>\n",
       "      <td>False</td>\n",
       "      <td>True</td>\n",
       "      <td>True</td>\n",
       "      <td>2</td>\n",
       "    </tr>\n",
       "    <tr>\n",
       "      <th>18</th>\n",
       "      <td>RegiaodoPais_Região Sudeste</td>\n",
       "      <td>False</td>\n",
       "      <td>True</td>\n",
       "      <td>False</td>\n",
       "      <td>False</td>\n",
       "      <td>1</td>\n",
       "    </tr>\n",
       "  </tbody>\n",
       "</table>\n",
       "</div>"
      ],
      "text/plain": [
       "                      Variáveis   chi2    RFE  Random Forest  \\\n",
       "1              ValorCompraAnual   True   True           True   \n",
       "3                    GastoMedio   True   True           True   \n",
       "2                      GastoMax   True   True           True   \n",
       "4                            UF  False   True           True   \n",
       "9                   Sexo_mulher   True   True           True   \n",
       "0                         Idade  False   True           True   \n",
       "8              GrupoEconomico_3   True   True           True   \n",
       "5              CidadeResidencia  False   True           True   \n",
       "6           NumeroComprasOnline  False  False           True   \n",
       "18  RegiaodoPais_Região Sudeste  False   True          False   \n",
       "\n",
       "    Variance Threshold  Total  \n",
       "1                 True      4  \n",
       "3                 True      4  \n",
       "2                 True      4  \n",
       "4                 True      3  \n",
       "9                False      3  \n",
       "0                 True      3  \n",
       "8                False      3  \n",
       "5                 True      3  \n",
       "6                 True      2  \n",
       "18               False      1  "
      ]
     },
     "execution_count": 27,
     "metadata": {},
     "output_type": "execute_result"
    }
   ],
   "source": [
    "feature_selection_df = pd.DataFrame({'Variáveis': X.columns,\n",
    "                                 'chi2': chi2_s,\n",
    "                                 'RFE': rfe_support,\n",
    "                                 'Random Forest': em_support,\n",
    "                                 'Variance Threshold': vt_support})\n",
    "\n",
    "feature_selection_df['Total'] = np.sum(feature_selection_df, axis=1)\n",
    "feature_selection_df = feature_selection_df.sort_values(['Total', 'Variáveis'], ascending=False)\n",
    "feature_selection_df.head(10)"
   ]
  },
  {
   "cell_type": "code",
   "execution_count": 28,
   "metadata": {},
   "outputs": [
    {
     "data": {
      "text/plain": [
       "8"
      ]
     },
     "execution_count": 28,
     "metadata": {},
     "output_type": "execute_result"
    }
   ],
   "source": [
    "my_features = feature_selection_df[(feature_selection_df.Total == 4) | (feature_selection_df.Total == 3)]['Variáveis'].to_list()\n",
    "len(my_features)"
   ]
  },
  {
   "cell_type": "code",
   "execution_count": 29,
   "metadata": {},
   "outputs": [
    {
     "name": "stdout",
     "output_type": "stream",
     "text": [
      "['ValorCompraAnual', 'GastoMedio', 'GastoMax', 'UF', 'Sexo_mulher', 'Idade', 'GrupoEconomico_3', 'CidadeResidencia']\n"
     ]
    }
   ],
   "source": [
    "print(my_features)"
   ]
  },
  {
   "cell_type": "code",
   "execution_count": 30,
   "metadata": {},
   "outputs": [],
   "source": [
    "expl = df[['ValorCompraAnual', 'GastoMedio', 'GastoMax', 'UF', 'Sexo_mulher', 'Idade', 'GrupoEconomico_3', 'CidadeResidencia']]"
   ]
  },
  {
   "cell_type": "code",
   "execution_count": 31,
   "metadata": {},
   "outputs": [],
   "source": [
    "from sklearn.model_selection import train_test_split"
   ]
  },
  {
   "cell_type": "code",
   "execution_count": 32,
   "metadata": {},
   "outputs": [],
   "source": [
    "X_train, X_test, y_train, y_test = train_test_split(expl, y, test_size=0.3, random_state=123)"
   ]
  },
  {
   "cell_type": "code",
   "execution_count": 33,
   "metadata": {},
   "outputs": [
    {
     "data": {
      "text/plain": [
       "((623, 8), (268, 8), (623,), (268,))"
      ]
     },
     "execution_count": 33,
     "metadata": {},
     "output_type": "execute_result"
    }
   ],
   "source": [
    "X_train.shape, X_test.shape, y_train.shape, y_test.shape"
   ]
  },
  {
   "cell_type": "markdown",
   "metadata": {},
   "source": [
    "# Análise"
   ]
  },
  {
   "cell_type": "markdown",
   "metadata": {},
   "source": [
    "## GridSearchCV"
   ]
  },
  {
   "cell_type": "code",
   "execution_count": 34,
   "metadata": {},
   "outputs": [],
   "source": [
    "from sklearn.model_selection import GridSearchCV"
   ]
  },
  {
   "cell_type": "markdown",
   "metadata": {},
   "source": [
    "### Regressão Logística"
   ]
  },
  {
   "cell_type": "code",
   "execution_count": 35,
   "metadata": {},
   "outputs": [],
   "source": [
    "from sklearn.linear_model import LogisticRegression"
   ]
  },
  {
   "cell_type": "code",
   "execution_count": 36,
   "metadata": {},
   "outputs": [],
   "source": [
    "rl = LogisticRegression()"
   ]
  },
  {
   "cell_type": "code",
   "execution_count": 37,
   "metadata": {},
   "outputs": [],
   "source": [
    "param_grid_rl = {'penalty': ['l1', 'l2'],'C':[0.001,.009,0.01,.09,1,5,10,25]}"
   ]
  },
  {
   "cell_type": "code",
   "execution_count": 38,
   "metadata": {},
   "outputs": [
    {
     "data": {
      "text/plain": [
       "GridSearchCV(cv=5, error_score='raise-deprecating',\n",
       "       estimator=LogisticRegression(C=1.0, class_weight=None, dual=False, fit_intercept=True,\n",
       "          intercept_scaling=1, max_iter=100, multi_class='warn',\n",
       "          n_jobs=None, penalty='l2', random_state=None, solver='warn',\n",
       "          tol=0.0001, verbose=0, warm_start=False),\n",
       "       fit_params=None, iid='warn', n_jobs=None,\n",
       "       param_grid={'penalty': ['l1', 'l2'], 'C': [0.001, 0.009, 0.01, 0.09, 1, 5, 10, 25]},\n",
       "       pre_dispatch='2*n_jobs', refit=True, return_train_score='warn',\n",
       "       scoring='accuracy', verbose=0)"
      ]
     },
     "execution_count": 38,
     "metadata": {},
     "output_type": "execute_result"
    }
   ],
   "source": [
    "grid_rl = GridSearchCV(estimator=rl, param_grid=param_grid_rl, scoring='accuracy', cv=5)\n",
    "\n",
    "grid_rl.fit(X_train, y_train)"
   ]
  },
  {
   "cell_type": "code",
   "execution_count": 39,
   "metadata": {},
   "outputs": [
    {
     "data": {
      "text/plain": [
       "{'C': 0.09, 'penalty': 'l1'}"
      ]
     },
     "execution_count": 39,
     "metadata": {},
     "output_type": "execute_result"
    }
   ],
   "source": [
    "grid_rl.best_params_"
   ]
  },
  {
   "cell_type": "markdown",
   "metadata": {},
   "source": [
    "### RandomForest"
   ]
  },
  {
   "cell_type": "code",
   "execution_count": 40,
   "metadata": {},
   "outputs": [],
   "source": [
    "from sklearn.ensemble import RandomForestClassifier"
   ]
  },
  {
   "cell_type": "code",
   "execution_count": 41,
   "metadata": {},
   "outputs": [],
   "source": [
    "model = RandomForestClassifier(n_estimators=400, random_state=123)"
   ]
  },
  {
   "cell_type": "code",
   "execution_count": 42,
   "metadata": {},
   "outputs": [],
   "source": [
    "param_grid = {'n_estimators': [10, 20, 50, 100, 200, 500],\n",
    "             'criterion': ['gini', 'entropy'],\n",
    "             'bootstrap': [True, False]}"
   ]
  },
  {
   "cell_type": "code",
   "execution_count": 43,
   "metadata": {},
   "outputs": [
    {
     "data": {
      "text/plain": [
       "GridSearchCV(cv=5, error_score='raise-deprecating',\n",
       "       estimator=RandomForestClassifier(bootstrap=True, class_weight=None, criterion='gini',\n",
       "            max_depth=None, max_features='auto', max_leaf_nodes=None,\n",
       "            min_impurity_decrease=0.0, min_impurity_split=None,\n",
       "            min_samples_leaf=1, min_samples_split=2,\n",
       "            min_weight_fraction_leaf=0.0, n_estimators=400, n_jobs=None,\n",
       "            oob_score=False, random_state=123, verbose=0, warm_start=False),\n",
       "       fit_params=None, iid='warn', n_jobs=None,\n",
       "       param_grid={'n_estimators': [10, 20, 50, 100, 200, 500], 'criterion': ['gini', 'entropy'], 'bootstrap': [True, False]},\n",
       "       pre_dispatch='2*n_jobs', refit=True, return_train_score='warn',\n",
       "       scoring='accuracy', verbose=0)"
      ]
     },
     "execution_count": 43,
     "metadata": {},
     "output_type": "execute_result"
    }
   ],
   "source": [
    "grid = GridSearchCV(estimator=model, param_grid=param_grid, scoring='accuracy', cv=5)\n",
    "\n",
    "grid.fit(X_train, y_train)"
   ]
  },
  {
   "cell_type": "code",
   "execution_count": 44,
   "metadata": {},
   "outputs": [
    {
     "data": {
      "text/plain": [
       "{'bootstrap': True, 'criterion': 'gini', 'n_estimators': 200}"
      ]
     },
     "execution_count": 44,
     "metadata": {},
     "output_type": "execute_result"
    }
   ],
   "source": [
    "grid.best_params_"
   ]
  },
  {
   "cell_type": "markdown",
   "metadata": {},
   "source": [
    "### GradientBoostingClassifier"
   ]
  },
  {
   "cell_type": "code",
   "execution_count": 45,
   "metadata": {},
   "outputs": [],
   "source": [
    "from sklearn.ensemble import GradientBoostingClassifier"
   ]
  },
  {
   "cell_type": "code",
   "execution_count": 46,
   "metadata": {},
   "outputs": [],
   "source": [
    "parm_gbc = {\n",
    "    'min_samples_split': [0.1, 0.5, 1.0, 3, 5],\n",
    "    'min_samples_leaf': [0.1, 0.5],\n",
    "    'max_depth': [2,3,5,10],\n",
    "    'n_estimators':[2,5,10,15]}"
   ]
  },
  {
   "cell_type": "code",
   "execution_count": 47,
   "metadata": {},
   "outputs": [],
   "source": [
    "grid_gb = GridSearchCV(GradientBoostingClassifier(),\n",
    "                      parm_gbc,\n",
    "                      scoring='accuracy',\n",
    "                      cv=5, # cross validation\n",
    "                      n_jobs=-1) # serve para paralelizar o máximo de jobs possível"
   ]
  },
  {
   "cell_type": "code",
   "execution_count": 48,
   "metadata": {},
   "outputs": [
    {
     "name": "stderr",
     "output_type": "stream",
     "text": [
      "C:\\Users\\RobertoMegumi\\Anaconda33\\lib\\site-packages\\sklearn\\model_selection\\_search.py:841: DeprecationWarning: The default of the `iid` parameter will change from True to False in version 0.22 and will be removed in 0.24. This will change numeric results when test-set sizes are unequal.\n",
      "  DeprecationWarning)\n"
     ]
    },
    {
     "data": {
      "text/plain": [
       "GridSearchCV(cv=5, error_score='raise-deprecating',\n",
       "       estimator=GradientBoostingClassifier(criterion='friedman_mse', init=None,\n",
       "              learning_rate=0.1, loss='deviance', max_depth=3,\n",
       "              max_features=None, max_leaf_nodes=None,\n",
       "              min_impurity_decrease=0.0, min_impurity_split=None,\n",
       "              min_samples_leaf=1, min_sampl...      subsample=1.0, tol=0.0001, validation_fraction=0.1,\n",
       "              verbose=0, warm_start=False),\n",
       "       fit_params=None, iid='warn', n_jobs=-1,\n",
       "       param_grid={'min_samples_split': [0.1, 0.5, 1.0, 3, 5], 'min_samples_leaf': [0.1, 0.5], 'max_depth': [2, 3, 5, 10], 'n_estimators': [2, 5, 10, 15]},\n",
       "       pre_dispatch='2*n_jobs', refit=True, return_train_score='warn',\n",
       "       scoring='accuracy', verbose=0)"
      ]
     },
     "execution_count": 48,
     "metadata": {},
     "output_type": "execute_result"
    }
   ],
   "source": [
    "grid_gb.fit(X_train, y_train)"
   ]
  },
  {
   "cell_type": "code",
   "execution_count": 49,
   "metadata": {},
   "outputs": [
    {
     "data": {
      "text/plain": [
       "{'max_depth': 2,\n",
       " 'min_samples_leaf': 0.1,\n",
       " 'min_samples_split': 0.5,\n",
       " 'n_estimators': 5}"
      ]
     },
     "execution_count": 49,
     "metadata": {},
     "output_type": "execute_result"
    }
   ],
   "source": [
    "grid_gb.best_params_"
   ]
  },
  {
   "cell_type": "markdown",
   "metadata": {},
   "source": [
    "## Resultados"
   ]
  },
  {
   "cell_type": "code",
   "execution_count": 50,
   "metadata": {},
   "outputs": [],
   "source": [
    "# Regressão Logística\n",
    "y_pred_rl_test = grid_rl.predict(X_test)\n",
    "y_pred_rl_train = grid_rl.predict(X_train)"
   ]
  },
  {
   "cell_type": "code",
   "execution_count": 51,
   "metadata": {},
   "outputs": [],
   "source": [
    "# Random Forest\n",
    "y_pred_rf_test = grid.predict(X_test)\n",
    "y_pred_rf_train = grid.predict(X_train)"
   ]
  },
  {
   "cell_type": "code",
   "execution_count": 52,
   "metadata": {},
   "outputs": [],
   "source": [
    "# Gradient Boost\n",
    "y_pred_gb_test = grid_gb.predict(X_test)\n",
    "y_pred_gb_train = grid_gb.predict(X_train)"
   ]
  },
  {
   "cell_type": "code",
   "execution_count": 53,
   "metadata": {},
   "outputs": [],
   "source": [
    "from sklearn.metrics import confusion_matrix, classification_report"
   ]
  },
  {
   "cell_type": "code",
   "execution_count": 54,
   "metadata": {},
   "outputs": [
    {
     "name": "stdout",
     "output_type": "stream",
     "text": [
      "              precision    recall  f1-score   support\n",
      "\n",
      "           0       0.85      0.82      0.83       175\n",
      "           1       0.68      0.72      0.70        93\n",
      "\n",
      "   micro avg       0.79      0.79      0.79       268\n",
      "   macro avg       0.77      0.77      0.77       268\n",
      "weighted avg       0.79      0.79      0.79       268\n",
      "\n",
      "[[144  31]\n",
      " [ 26  67]]\n"
     ]
    }
   ],
   "source": [
    "# Regressão Logística\n",
    "print(classification_report(y_pred_rl_test, y_test))\n",
    "print(confusion_matrix(y_pred_rl_test, y_test))"
   ]
  },
  {
   "cell_type": "code",
   "execution_count": 55,
   "metadata": {},
   "outputs": [
    {
     "name": "stdout",
     "output_type": "stream",
     "text": [
      "              precision    recall  f1-score   support\n",
      "\n",
      "           0       0.87      0.84      0.85       177\n",
      "           1       0.70      0.76      0.73        91\n",
      "\n",
      "   micro avg       0.81      0.81      0.81       268\n",
      "   macro avg       0.79      0.80      0.79       268\n",
      "weighted avg       0.81      0.81      0.81       268\n",
      "\n",
      "[[148  29]\n",
      " [ 22  69]]\n"
     ]
    }
   ],
   "source": [
    "# Random Forest\n",
    "print(classification_report(y_pred_rf_test, y_test))\n",
    "print(confusion_matrix(y_pred_rf_test, y_test))"
   ]
  },
  {
   "cell_type": "code",
   "execution_count": 56,
   "metadata": {},
   "outputs": [
    {
     "name": "stdout",
     "output_type": "stream",
     "text": [
      "              precision    recall  f1-score   support\n",
      "\n",
      "           0       0.86      0.83      0.84       176\n",
      "           1       0.69      0.74      0.72        92\n",
      "\n",
      "   micro avg       0.80      0.80      0.80       268\n",
      "   macro avg       0.78      0.78      0.78       268\n",
      "weighted avg       0.80      0.80      0.80       268\n",
      "\n",
      "[[146  30]\n",
      " [ 24  68]]\n"
     ]
    }
   ],
   "source": [
    "# Gradient Boost\n",
    "print(classification_report(y_pred_gb_test, y_test))\n",
    "print(confusion_matrix(y_pred_gb_test, y_test))"
   ]
  },
  {
   "cell_type": "markdown",
   "metadata": {},
   "source": [
    "* The precision is intuitively the ability of the classifier not to label as positive a sample that is negative.\n",
    "* The recall is intuitively the ability of the classifier to find all the positive samples.\n",
    "* The F-beta score can be interpreted as a weighted harmonic mean of the precision and recall\n",
    "* The support is the number of occurrences of each class in y_true"
   ]
  }
 ],
 "metadata": {
  "kernelspec": {
   "display_name": "Python 3",
   "language": "python",
   "name": "python3"
  },
  "language_info": {
   "codemirror_mode": {
    "name": "ipython",
    "version": 3
   },
   "file_extension": ".py",
   "mimetype": "text/x-python",
   "name": "python",
   "nbconvert_exporter": "python",
   "pygments_lexer": "ipython3",
   "version": "3.7.3"
  }
 },
 "nbformat": 4,
 "nbformat_minor": 2
}
