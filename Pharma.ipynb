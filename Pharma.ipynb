{
 "cells": [
  {
   "cell_type": "markdown",
   "metadata": {},
   "source": [
    "# Fármacos\n",
    "\n",
    "Essa base de dados apresenta vendas de remédios no ano de 2015. Ela mostra para quais doenças os medicamentos atingem, as empresas fabricantes, os países de destino, os valores e as quantidades."
   ]
  },
  {
   "cell_type": "code",
   "execution_count": 1,
   "metadata": {},
   "outputs": [],
   "source": [
    "import numpy as np\n",
    "import pandas as pd\n",
    "import matplotlib.pyplot as plt\n",
    "import seaborn as sns\n",
    "%matplotlib inline"
   ]
  },
  {
   "cell_type": "code",
   "execution_count": 2,
   "metadata": {},
   "outputs": [],
   "source": [
    "df = pd.read_excel('Business dataset.xlsx')"
   ]
  },
  {
   "cell_type": "code",
   "execution_count": 3,
   "metadata": {},
   "outputs": [
    {
     "data": {
      "text/html": [
       "<div>\n",
       "<style scoped>\n",
       "    .dataframe tbody tr th:only-of-type {\n",
       "        vertical-align: middle;\n",
       "    }\n",
       "\n",
       "    .dataframe tbody tr th {\n",
       "        vertical-align: top;\n",
       "    }\n",
       "\n",
       "    .dataframe thead th {\n",
       "        text-align: right;\n",
       "    }\n",
       "</style>\n",
       "<table border=\"1\" class=\"dataframe\">\n",
       "  <thead>\n",
       "    <tr style=\"text-align: right;\">\n",
       "      <th></th>\n",
       "      <th>Order ID</th>\n",
       "      <th>Generic Name</th>\n",
       "      <th>Brand Name</th>\n",
       "      <th>Company Name</th>\n",
       "      <th>Disease Medical Use</th>\n",
       "      <th>Invoice date</th>\n",
       "      <th>Company code</th>\n",
       "      <th>ship to country</th>\n",
       "      <th>Sold-to party Country Full Name</th>\n",
       "      <th>Delivery Plant</th>\n",
       "      <th>External Agent</th>\n",
       "      <th>Sales quantity</th>\n",
       "      <th>Price TC /Kg</th>\n",
       "      <th>Revenue</th>\n",
       "      <th>External commissions</th>\n",
       "      <th>Months</th>\n",
       "    </tr>\n",
       "  </thead>\n",
       "  <tbody>\n",
       "    <tr>\n",
       "      <th>0</th>\n",
       "      <td>FY-2015-001</td>\n",
       "      <td>Aripiprazole</td>\n",
       "      <td>Abilify</td>\n",
       "      <td>Generic</td>\n",
       "      <td>Psychosis; depression</td>\n",
       "      <td>2015-11-09</td>\n",
       "      <td>5704</td>\n",
       "      <td>Mexico</td>\n",
       "      <td>Mexico</td>\n",
       "      <td>8370</td>\n",
       "      <td>Not assigned</td>\n",
       "      <td>450</td>\n",
       "      <td>204</td>\n",
       "      <td>91800</td>\n",
       "      <td>0.0</td>\n",
       "      <td>Nov</td>\n",
       "    </tr>\n",
       "    <tr>\n",
       "      <th>1</th>\n",
       "      <td>IN-2015-002</td>\n",
       "      <td>Oxycodone</td>\n",
       "      <td>OxyContin</td>\n",
       "      <td>Generic</td>\n",
       "      <td>Pain</td>\n",
       "      <td>2015-06-30</td>\n",
       "      <td>5704</td>\n",
       "      <td>Thailand</td>\n",
       "      <td>Thailand</td>\n",
       "      <td>8370</td>\n",
       "      <td>Not assigned</td>\n",
       "      <td>374</td>\n",
       "      <td>472</td>\n",
       "      <td>176528</td>\n",
       "      <td>0.0</td>\n",
       "      <td>Jun</td>\n",
       "    </tr>\n",
       "    <tr>\n",
       "      <th>2</th>\n",
       "      <td>IN-2015-003</td>\n",
       "      <td>Oxycodone</td>\n",
       "      <td>OxyContin</td>\n",
       "      <td>Generic</td>\n",
       "      <td>Pain</td>\n",
       "      <td>2015-12-05</td>\n",
       "      <td>5704</td>\n",
       "      <td>Vietnam</td>\n",
       "      <td>Japan</td>\n",
       "      <td>8370</td>\n",
       "      <td>Assigned</td>\n",
       "      <td>138</td>\n",
       "      <td>472</td>\n",
       "      <td>65136</td>\n",
       "      <td>4186.0</td>\n",
       "      <td>Dec</td>\n",
       "    </tr>\n",
       "    <tr>\n",
       "      <th>3</th>\n",
       "      <td>IN-2015-004</td>\n",
       "      <td>Oxycodone</td>\n",
       "      <td>OxyContin</td>\n",
       "      <td>Generic</td>\n",
       "      <td>Pain</td>\n",
       "      <td>2015-05-09</td>\n",
       "      <td>5704</td>\n",
       "      <td>Australia</td>\n",
       "      <td>Australia</td>\n",
       "      <td>8370</td>\n",
       "      <td>Not assigned</td>\n",
       "      <td>227</td>\n",
       "      <td>472</td>\n",
       "      <td>107144</td>\n",
       "      <td>0.0</td>\n",
       "      <td>May</td>\n",
       "    </tr>\n",
       "    <tr>\n",
       "      <th>4</th>\n",
       "      <td>IN-2015-005</td>\n",
       "      <td>Oxycodone</td>\n",
       "      <td>OxyContin</td>\n",
       "      <td>Generic</td>\n",
       "      <td>Pain</td>\n",
       "      <td>2015-07-09</td>\n",
       "      <td>5704</td>\n",
       "      <td>Singapore</td>\n",
       "      <td>Singapore</td>\n",
       "      <td>8370</td>\n",
       "      <td>Not assigned</td>\n",
       "      <td>394</td>\n",
       "      <td>472</td>\n",
       "      <td>185968</td>\n",
       "      <td>0.0</td>\n",
       "      <td>Jul</td>\n",
       "    </tr>\n",
       "  </tbody>\n",
       "</table>\n",
       "</div>"
      ],
      "text/plain": [
       "      Order ID  Generic Name Brand Name Company Name    Disease Medical Use  \\\n",
       "0  FY-2015-001  Aripiprazole    Abilify      Generic  Psychosis; depression   \n",
       "1  IN-2015-002     Oxycodone  OxyContin      Generic                   Pain   \n",
       "2  IN-2015-003     Oxycodone  OxyContin      Generic                   Pain   \n",
       "3  IN-2015-004     Oxycodone  OxyContin      Generic                   Pain   \n",
       "4  IN-2015-005     Oxycodone  OxyContin      Generic                   Pain   \n",
       "\n",
       "  Invoice date  Company code ship to country Sold-to party Country Full Name  \\\n",
       "0   2015-11-09          5704          Mexico                          Mexico   \n",
       "1   2015-06-30          5704        Thailand                        Thailand   \n",
       "2   2015-12-05          5704         Vietnam                           Japan   \n",
       "3   2015-05-09          5704       Australia                       Australia   \n",
       "4   2015-07-09          5704       Singapore                       Singapore   \n",
       "\n",
       "   Delivery Plant External Agent  Sales quantity  Price TC /Kg  Revenue  \\\n",
       "0            8370   Not assigned             450           204    91800   \n",
       "1            8370   Not assigned             374           472   176528   \n",
       "2            8370       Assigned             138           472    65136   \n",
       "3            8370   Not assigned             227           472   107144   \n",
       "4            8370   Not assigned             394           472   185968   \n",
       "\n",
       "   External commissions Months  \n",
       "0                   0.0    Nov  \n",
       "1                   0.0    Jun  \n",
       "2                4186.0    Dec  \n",
       "3                   0.0    May  \n",
       "4                   0.0    Jul  "
      ]
     },
     "execution_count": 3,
     "metadata": {},
     "output_type": "execute_result"
    }
   ],
   "source": [
    "df.head()"
   ]
  },
  {
   "cell_type": "code",
   "execution_count": 4,
   "metadata": {},
   "outputs": [
    {
     "name": "stdout",
     "output_type": "stream",
     "text": [
      "<class 'pandas.core.frame.DataFrame'>\n",
      "RangeIndex: 3326 entries, 0 to 3325\n",
      "Data columns (total 16 columns):\n",
      "Order ID                           3326 non-null object\n",
      "Generic Name                       3326 non-null object\n",
      "Brand Name                         3326 non-null object\n",
      "Company Name                       3326 non-null object\n",
      "Disease Medical Use                3326 non-null object\n",
      "Invoice date                       3326 non-null datetime64[ns]\n",
      "Company code                       3326 non-null int64\n",
      "ship to country                    3326 non-null object\n",
      "Sold-to party Country Full Name    3326 non-null object\n",
      "Delivery Plant                     3326 non-null int64\n",
      "External Agent                     3326 non-null object\n",
      "Sales quantity                     3326 non-null int64\n",
      "Price TC /Kg                       3326 non-null int64\n",
      "Revenue                            3326 non-null int64\n",
      "External commissions               3326 non-null float64\n",
      "Months                             3326 non-null object\n",
      "dtypes: datetime64[ns](1), float64(1), int64(5), object(9)\n",
      "memory usage: 415.8+ KB\n"
     ]
    }
   ],
   "source": [
    "df.info()"
   ]
  },
  {
   "cell_type": "code",
   "execution_count": 5,
   "metadata": {},
   "outputs": [
    {
     "data": {
      "text/plain": [
       "(3326, 16)"
      ]
     },
     "execution_count": 5,
     "metadata": {},
     "output_type": "execute_result"
    }
   ],
   "source": [
    "df.shape\n",
    "# são 3326 linhas e 16 colunas"
   ]
  },
  {
   "cell_type": "code",
   "execution_count": 6,
   "metadata": {},
   "outputs": [
    {
     "data": {
      "text/html": [
       "<div>\n",
       "<style scoped>\n",
       "    .dataframe tbody tr th:only-of-type {\n",
       "        vertical-align: middle;\n",
       "    }\n",
       "\n",
       "    .dataframe tbody tr th {\n",
       "        vertical-align: top;\n",
       "    }\n",
       "\n",
       "    .dataframe thead th {\n",
       "        text-align: right;\n",
       "    }\n",
       "</style>\n",
       "<table border=\"1\" class=\"dataframe\">\n",
       "  <thead>\n",
       "    <tr style=\"text-align: right;\">\n",
       "      <th></th>\n",
       "      <th>Company code</th>\n",
       "      <th>Delivery Plant</th>\n",
       "      <th>Sales quantity</th>\n",
       "      <th>Price TC /Kg</th>\n",
       "      <th>Revenue</th>\n",
       "      <th>External commissions</th>\n",
       "    </tr>\n",
       "  </thead>\n",
       "  <tbody>\n",
       "    <tr>\n",
       "      <th>count</th>\n",
       "      <td>3326.000000</td>\n",
       "      <td>3326.000000</td>\n",
       "      <td>3326.000000</td>\n",
       "      <td>3326.000000</td>\n",
       "      <td>3326.00000</td>\n",
       "      <td>3326.000000</td>\n",
       "    </tr>\n",
       "    <tr>\n",
       "      <th>mean</th>\n",
       "      <td>5790.534877</td>\n",
       "      <td>8139.996091</td>\n",
       "      <td>255.105532</td>\n",
       "      <td>404.814191</td>\n",
       "      <td>103171.70926</td>\n",
       "      <td>1689.373221</td>\n",
       "    </tr>\n",
       "    <tr>\n",
       "      <th>std</th>\n",
       "      <td>97.658222</td>\n",
       "      <td>148.833525</td>\n",
       "      <td>143.289185</td>\n",
       "      <td>105.390681</td>\n",
       "      <td>65287.19903</td>\n",
       "      <td>3133.869579</td>\n",
       "    </tr>\n",
       "    <tr>\n",
       "      <th>min</th>\n",
       "      <td>5566.000000</td>\n",
       "      <td>7904.000000</td>\n",
       "      <td>1.000000</td>\n",
       "      <td>204.000000</td>\n",
       "      <td>243.00000</td>\n",
       "      <td>0.000000</td>\n",
       "    </tr>\n",
       "    <tr>\n",
       "      <th>25%</th>\n",
       "      <td>5704.000000</td>\n",
       "      <td>8095.000000</td>\n",
       "      <td>129.000000</td>\n",
       "      <td>314.000000</td>\n",
       "      <td>49541.25000</td>\n",
       "      <td>0.000000</td>\n",
       "    </tr>\n",
       "    <tr>\n",
       "      <th>50%</th>\n",
       "      <td>5779.000000</td>\n",
       "      <td>8095.000000</td>\n",
       "      <td>260.000000</td>\n",
       "      <td>451.000000</td>\n",
       "      <td>97094.00000</td>\n",
       "      <td>0.000000</td>\n",
       "    </tr>\n",
       "    <tr>\n",
       "      <th>75%</th>\n",
       "      <td>5887.000000</td>\n",
       "      <td>8209.000000</td>\n",
       "      <td>378.000000</td>\n",
       "      <td>500.000000</td>\n",
       "      <td>148962.00000</td>\n",
       "      <td>2110.083333</td>\n",
       "    </tr>\n",
       "    <tr>\n",
       "      <th>max</th>\n",
       "      <td>5938.000000</td>\n",
       "      <td>8370.000000</td>\n",
       "      <td>500.000000</td>\n",
       "      <td>500.000000</td>\n",
       "      <td>250000.00000</td>\n",
       "      <td>16236.000000</td>\n",
       "    </tr>\n",
       "  </tbody>\n",
       "</table>\n",
       "</div>"
      ],
      "text/plain": [
       "       Company code  Delivery Plant  Sales quantity  Price TC /Kg  \\\n",
       "count   3326.000000     3326.000000     3326.000000   3326.000000   \n",
       "mean    5790.534877     8139.996091      255.105532    404.814191   \n",
       "std       97.658222      148.833525      143.289185    105.390681   \n",
       "min     5566.000000     7904.000000        1.000000    204.000000   \n",
       "25%     5704.000000     8095.000000      129.000000    314.000000   \n",
       "50%     5779.000000     8095.000000      260.000000    451.000000   \n",
       "75%     5887.000000     8209.000000      378.000000    500.000000   \n",
       "max     5938.000000     8370.000000      500.000000    500.000000   \n",
       "\n",
       "            Revenue  External commissions  \n",
       "count    3326.00000           3326.000000  \n",
       "mean   103171.70926           1689.373221  \n",
       "std     65287.19903           3133.869579  \n",
       "min       243.00000              0.000000  \n",
       "25%     49541.25000              0.000000  \n",
       "50%     97094.00000              0.000000  \n",
       "75%    148962.00000           2110.083333  \n",
       "max    250000.00000          16236.000000  "
      ]
     },
     "execution_count": 6,
     "metadata": {},
     "output_type": "execute_result"
    }
   ],
   "source": [
    "df.describe()"
   ]
  },
  {
   "cell_type": "markdown",
   "metadata": {},
   "source": [
    "### Análise exploratória"
   ]
  },
  {
   "cell_type": "code",
   "execution_count": 7,
   "metadata": {},
   "outputs": [
    {
     "data": {
      "text/plain": [
       "<matplotlib.axes._subplots.AxesSubplot at 0x25d87987a90>"
      ]
     },
     "execution_count": 7,
     "metadata": {},
     "output_type": "execute_result"
    },
    {
     "data": {
      "image/png": "[encoded data removed]",
      "text/plain": [
       "<Figure size 432x288 with 1 Axes>"
      ]
     },
     "metadata": {
      "needs_background": "light"
     },
     "output_type": "display_data"
    }
   ],
   "source": [
    "df['Disease Medical Use'].value_counts().plot(kind='barh')"
   ]
  },
  {
   "cell_type": "code",
   "execution_count": 8,
   "metadata": {},
   "outputs": [
    {
     "data": {
      "text/plain": [
       "<matplotlib.axes._subplots.AxesSubplot at 0x25d88bb5f60>"
      ]
     },
     "execution_count": 8,
     "metadata": {},
     "output_type": "execute_result"
    },
    {
     "data": {
      "image/png": "[encoded data removed]",
      "text/plain": [
       "<Figure size 432x288 with 1 Axes>"
      ]
     },
     "metadata": {
      "needs_background": "light"
     },
     "output_type": "display_data"
    }
   ],
   "source": [
    "df.groupby('Disease Medical Use').Revenue.sum().reset_index().sort_values('Revenue', ascending=False).set_index('Disease Medical Use').plot(kind='barh')"
   ]
  },
  {
   "cell_type": "markdown",
   "metadata": {},
   "source": [
    "Na primeira figura vemos um número muito maior de lotes de fármacos vendidos para Dor Neuropática. Na segunda figura nota-se que esse tipo de fármaco tem o maior revenue.  A base de dados não diz qual a moeda usada. O revenue é a multiplicação do Sales Quantity com Price TC/kg (preço total por quilograma). O revenue e quantidade de lotes tem uma correlação forte."
   ]
  },
  {
   "cell_type": "code",
   "execution_count": 9,
   "metadata": {},
   "outputs": [
    {
     "data": {
      "text/plain": [
       "<matplotlib.axes._subplots.AxesSubplot at 0x25d87a4c080>"
      ]
     },
     "execution_count": 9,
     "metadata": {},
     "output_type": "execute_result"
    },
    {
     "data": {
      "image/png": "[encoded data removed]",
      "text/plain": [
       "<Figure size 432x288 with 1 Axes>"
      ]
     },
     "metadata": {
      "needs_background": "light"
     },
     "output_type": "display_data"
    }
   ],
   "source": [
    "df.groupby('Company Name').Revenue.sum().reset_index().sort_values('Revenue', ascending=False).set_index('Company Name').plot(kind='barh')"
   ]
  },
  {
   "cell_type": "markdown",
   "metadata": {},
   "source": [
    "A soma de revenue mostra que a Pfizer lidera, seguida por genéricos e Sanofi-Aventis."
   ]
  },
  {
   "cell_type": "code",
   "execution_count": 10,
   "metadata": {},
   "outputs": [
    {
     "data": {
      "text/html": [
       "<div>\n",
       "<style scoped>\n",
       "    .dataframe tbody tr th:only-of-type {\n",
       "        vertical-align: middle;\n",
       "    }\n",
       "\n",
       "    .dataframe tbody tr th {\n",
       "        vertical-align: top;\n",
       "    }\n",
       "\n",
       "    .dataframe thead th {\n",
       "        text-align: right;\n",
       "    }\n",
       "</style>\n",
       "<table border=\"1\" class=\"dataframe\">\n",
       "  <thead>\n",
       "    <tr style=\"text-align: right;\">\n",
       "      <th></th>\n",
       "      <th>Company Name</th>\n",
       "      <th>Revenue</th>\n",
       "    </tr>\n",
       "  </thead>\n",
       "  <tbody>\n",
       "    <tr>\n",
       "      <th>2</th>\n",
       "      <td>AstraZeneca, Shionogi</td>\n",
       "      <td>168911.500000</td>\n",
       "    </tr>\n",
       "    <tr>\n",
       "      <th>11</th>\n",
       "      <td>Pfizer</td>\n",
       "      <td>129294.648829</td>\n",
       "    </tr>\n",
       "    <tr>\n",
       "      <th>0</th>\n",
       "      <td>AbbVie</td>\n",
       "      <td>123197.000000</td>\n",
       "    </tr>\n",
       "    <tr>\n",
       "      <th>7</th>\n",
       "      <td>Generic</td>\n",
       "      <td>98143.069829</td>\n",
       "    </tr>\n",
       "    <tr>\n",
       "      <th>10</th>\n",
       "      <td>Merck &amp; Co., Inc.</td>\n",
       "      <td>93853.142857</td>\n",
       "    </tr>\n",
       "    <tr>\n",
       "      <th>3</th>\n",
       "      <td>Biogen Idec, Chugai Pharmaceutical, Genentech/...</td>\n",
       "      <td>91456.716981</td>\n",
       "    </tr>\n",
       "    <tr>\n",
       "      <th>5</th>\n",
       "      <td>Centocor Ortho Biotech, Inc., Mitsubishi Tanab...</td>\n",
       "      <td>80129.327189</td>\n",
       "    </tr>\n",
       "    <tr>\n",
       "      <th>4</th>\n",
       "      <td>Boehringer Ingelheim</td>\n",
       "      <td>79549.444444</td>\n",
       "    </tr>\n",
       "    <tr>\n",
       "      <th>8</th>\n",
       "      <td>Gilead Sciences, Inc.</td>\n",
       "      <td>66779.250000</td>\n",
       "    </tr>\n",
       "    <tr>\n",
       "      <th>6</th>\n",
       "      <td>Genentech/Roche</td>\n",
       "      <td>65607.249057</td>\n",
       "    </tr>\n",
       "    <tr>\n",
       "      <th>1</th>\n",
       "      <td>Amgen</td>\n",
       "      <td>64211.632653</td>\n",
       "    </tr>\n",
       "    <tr>\n",
       "      <th>12</th>\n",
       "      <td>Sanofi-Aventis</td>\n",
       "      <td>59947.038462</td>\n",
       "    </tr>\n",
       "    <tr>\n",
       "      <th>9</th>\n",
       "      <td>GlaxoSmithKline</td>\n",
       "      <td>353.000000</td>\n",
       "    </tr>\n",
       "  </tbody>\n",
       "</table>\n",
       "</div>"
      ],
      "text/plain": [
       "                                         Company Name        Revenue\n",
       "2                               AstraZeneca, Shionogi  168911.500000\n",
       "11                                             Pfizer  129294.648829\n",
       "0                                              AbbVie  123197.000000\n",
       "7                                             Generic   98143.069829\n",
       "10                                  Merck & Co., Inc.   93853.142857\n",
       "3   Biogen Idec, Chugai Pharmaceutical, Genentech/...   91456.716981\n",
       "5   Centocor Ortho Biotech, Inc., Mitsubishi Tanab...   80129.327189\n",
       "4                                Boehringer Ingelheim   79549.444444\n",
       "8                               Gilead Sciences, Inc.   66779.250000\n",
       "6                                     Genentech/Roche   65607.249057\n",
       "1                                               Amgen   64211.632653\n",
       "12                                     Sanofi-Aventis   59947.038462\n",
       "9                                     GlaxoSmithKline     353.000000"
      ]
     },
     "execution_count": 10,
     "metadata": {},
     "output_type": "execute_result"
    }
   ],
   "source": [
    "df.groupby('Company Name')['Revenue'].mean().reset_index().sort_values('Revenue', ascending=False)"
   ]
  },
  {
   "cell_type": "markdown",
   "metadata": {},
   "source": [
    "Já quando tomamos o revenue médio a AstraZeneca - Shionogi lidera seguida pela Pfizer e pela AbbVie. A Sanofi-Aventis cai para penúltima posição. "
   ]
  },
  {
   "cell_type": "code",
   "execution_count": 11,
   "metadata": {},
   "outputs": [
    {
     "data": {
      "text/html": [
       "<div>\n",
       "<style scoped>\n",
       "    .dataframe tbody tr th:only-of-type {\n",
       "        vertical-align: middle;\n",
       "    }\n",
       "\n",
       "    .dataframe tbody tr th {\n",
       "        vertical-align: top;\n",
       "    }\n",
       "\n",
       "    .dataframe thead th {\n",
       "        text-align: right;\n",
       "    }\n",
       "</style>\n",
       "<table border=\"1\" class=\"dataframe\">\n",
       "  <thead>\n",
       "    <tr style=\"text-align: right;\">\n",
       "      <th></th>\n",
       "      <th>Company Name</th>\n",
       "      <th>Price TC /Kg</th>\n",
       "    </tr>\n",
       "  </thead>\n",
       "  <tbody>\n",
       "    <tr>\n",
       "      <th>11</th>\n",
       "      <td>Pfizer</td>\n",
       "      <td>500.000000</td>\n",
       "    </tr>\n",
       "    <tr>\n",
       "      <th>2</th>\n",
       "      <td>AstraZeneca, Shionogi</td>\n",
       "      <td>499.000000</td>\n",
       "    </tr>\n",
       "    <tr>\n",
       "      <th>7</th>\n",
       "      <td>Generic</td>\n",
       "      <td>406.262187</td>\n",
       "    </tr>\n",
       "    <tr>\n",
       "      <th>10</th>\n",
       "      <td>Merck &amp; Co., Inc.</td>\n",
       "      <td>386.000000</td>\n",
       "    </tr>\n",
       "    <tr>\n",
       "      <th>3</th>\n",
       "      <td>Biogen Idec, Chugai Pharmaceutical, Genentech/...</td>\n",
       "      <td>364.000000</td>\n",
       "    </tr>\n",
       "    <tr>\n",
       "      <th>9</th>\n",
       "      <td>GlaxoSmithKline</td>\n",
       "      <td>353.000000</td>\n",
       "    </tr>\n",
       "    <tr>\n",
       "      <th>0</th>\n",
       "      <td>AbbVie</td>\n",
       "      <td>349.000000</td>\n",
       "    </tr>\n",
       "    <tr>\n",
       "      <th>5</th>\n",
       "      <td>Centocor Ortho Biotech, Inc., Mitsubishi Tanab...</td>\n",
       "      <td>314.000000</td>\n",
       "    </tr>\n",
       "    <tr>\n",
       "      <th>4</th>\n",
       "      <td>Boehringer Ingelheim</td>\n",
       "      <td>310.000000</td>\n",
       "    </tr>\n",
       "    <tr>\n",
       "      <th>8</th>\n",
       "      <td>Gilead Sciences, Inc.</td>\n",
       "      <td>269.000000</td>\n",
       "    </tr>\n",
       "    <tr>\n",
       "      <th>1</th>\n",
       "      <td>Amgen</td>\n",
       "      <td>253.918367</td>\n",
       "    </tr>\n",
       "    <tr>\n",
       "      <th>6</th>\n",
       "      <td>Genentech/Roche</td>\n",
       "      <td>243.000000</td>\n",
       "    </tr>\n",
       "    <tr>\n",
       "      <th>12</th>\n",
       "      <td>Sanofi-Aventis</td>\n",
       "      <td>231.000000</td>\n",
       "    </tr>\n",
       "  </tbody>\n",
       "</table>\n",
       "</div>"
      ],
      "text/plain": [
       "                                         Company Name  Price TC /Kg\n",
       "11                                             Pfizer    500.000000\n",
       "2                               AstraZeneca, Shionogi    499.000000\n",
       "7                                             Generic    406.262187\n",
       "10                                  Merck & Co., Inc.    386.000000\n",
       "3   Biogen Idec, Chugai Pharmaceutical, Genentech/...    364.000000\n",
       "9                                     GlaxoSmithKline    353.000000\n",
       "0                                              AbbVie    349.000000\n",
       "5   Centocor Ortho Biotech, Inc., Mitsubishi Tanab...    314.000000\n",
       "4                                Boehringer Ingelheim    310.000000\n",
       "8                               Gilead Sciences, Inc.    269.000000\n",
       "1                                               Amgen    253.918367\n",
       "6                                     Genentech/Roche    243.000000\n",
       "12                                     Sanofi-Aventis    231.000000"
      ]
     },
     "execution_count": 11,
     "metadata": {},
     "output_type": "execute_result"
    }
   ],
   "source": [
    "df.groupby('Company Name')['Price TC /Kg'].mean().reset_index().sort_values('Price TC /Kg', ascending=False)"
   ]
  },
  {
   "cell_type": "code",
   "execution_count": 12,
   "metadata": {},
   "outputs": [
    {
     "data": {
      "text/html": [
       "<div>\n",
       "<style scoped>\n",
       "    .dataframe tbody tr th:only-of-type {\n",
       "        vertical-align: middle;\n",
       "    }\n",
       "\n",
       "    .dataframe tbody tr th {\n",
       "        vertical-align: top;\n",
       "    }\n",
       "\n",
       "    .dataframe thead th {\n",
       "        text-align: right;\n",
       "    }\n",
       "</style>\n",
       "<table border=\"1\" class=\"dataframe\">\n",
       "  <thead>\n",
       "    <tr style=\"text-align: right;\">\n",
       "      <th></th>\n",
       "      <th>Company Name</th>\n",
       "      <th>Sales quantity</th>\n",
       "    </tr>\n",
       "  </thead>\n",
       "  <tbody>\n",
       "    <tr>\n",
       "      <th>11</th>\n",
       "      <td>Pfizer</td>\n",
       "      <td>386591</td>\n",
       "    </tr>\n",
       "    <tr>\n",
       "      <th>7</th>\n",
       "      <td>Generic</td>\n",
       "      <td>183242</td>\n",
       "    </tr>\n",
       "    <tr>\n",
       "      <th>12</th>\n",
       "      <td>Sanofi-Aventis</td>\n",
       "      <td>94462</td>\n",
       "    </tr>\n",
       "    <tr>\n",
       "      <th>6</th>\n",
       "      <td>Genentech/Roche</td>\n",
       "      <td>71547</td>\n",
       "    </tr>\n",
       "    <tr>\n",
       "      <th>5</th>\n",
       "      <td>Centocor Ortho Biotech, Inc., Mitsubishi Tanab...</td>\n",
       "      <td>55376</td>\n",
       "    </tr>\n",
       "    <tr>\n",
       "      <th>3</th>\n",
       "      <td>Biogen Idec, Chugai Pharmaceutical, Genentech/...</td>\n",
       "      <td>26633</td>\n",
       "    </tr>\n",
       "    <tr>\n",
       "      <th>4</th>\n",
       "      <td>Boehringer Ingelheim</td>\n",
       "      <td>13857</td>\n",
       "    </tr>\n",
       "    <tr>\n",
       "      <th>1</th>\n",
       "      <td>Amgen</td>\n",
       "      <td>12341</td>\n",
       "    </tr>\n",
       "    <tr>\n",
       "      <th>10</th>\n",
       "      <td>Merck &amp; Co., Inc.</td>\n",
       "      <td>1702</td>\n",
       "    </tr>\n",
       "    <tr>\n",
       "      <th>0</th>\n",
       "      <td>AbbVie</td>\n",
       "      <td>1059</td>\n",
       "    </tr>\n",
       "    <tr>\n",
       "      <th>8</th>\n",
       "      <td>Gilead Sciences, Inc.</td>\n",
       "      <td>993</td>\n",
       "    </tr>\n",
       "    <tr>\n",
       "      <th>2</th>\n",
       "      <td>AstraZeneca, Shionogi</td>\n",
       "      <td>677</td>\n",
       "    </tr>\n",
       "    <tr>\n",
       "      <th>9</th>\n",
       "      <td>GlaxoSmithKline</td>\n",
       "      <td>1</td>\n",
       "    </tr>\n",
       "  </tbody>\n",
       "</table>\n",
       "</div>"
      ],
      "text/plain": [
       "                                         Company Name  Sales quantity\n",
       "11                                             Pfizer          386591\n",
       "7                                             Generic          183242\n",
       "12                                     Sanofi-Aventis           94462\n",
       "6                                     Genentech/Roche           71547\n",
       "5   Centocor Ortho Biotech, Inc., Mitsubishi Tanab...           55376\n",
       "3   Biogen Idec, Chugai Pharmaceutical, Genentech/...           26633\n",
       "4                                Boehringer Ingelheim           13857\n",
       "1                                               Amgen           12341\n",
       "10                                  Merck & Co., Inc.            1702\n",
       "0                                              AbbVie            1059\n",
       "8                               Gilead Sciences, Inc.             993\n",
       "2                               AstraZeneca, Shionogi             677\n",
       "9                                     GlaxoSmithKline               1"
      ]
     },
     "execution_count": 12,
     "metadata": {},
     "output_type": "execute_result"
    }
   ],
   "source": [
    "df.groupby('Company Name')['Sales quantity'].sum().reset_index().sort_values('Sales quantity', ascending=False)"
   ]
  },
  {
   "cell_type": "markdown",
   "metadata": {},
   "source": [
    "A Sanofi-Aventis tem o preço total médio mais baixo e é a terceira empresa com maior quantidade de produto vendidos."
   ]
  },
  {
   "cell_type": "code",
   "execution_count": 13,
   "metadata": {},
   "outputs": [
    {
     "data": {
      "text/html": [
       "<div>\n",
       "<style scoped>\n",
       "    .dataframe tbody tr th:only-of-type {\n",
       "        vertical-align: middle;\n",
       "    }\n",
       "\n",
       "    .dataframe tbody tr th {\n",
       "        vertical-align: top;\n",
       "    }\n",
       "\n",
       "    .dataframe thead th {\n",
       "        text-align: right;\n",
       "    }\n",
       "</style>\n",
       "<table border=\"1\" class=\"dataframe\">\n",
       "  <thead>\n",
       "    <tr style=\"text-align: right;\">\n",
       "      <th></th>\n",
       "      <th>Revenue</th>\n",
       "    </tr>\n",
       "    <tr>\n",
       "      <th>ship to country</th>\n",
       "      <th></th>\n",
       "    </tr>\n",
       "  </thead>\n",
       "  <tbody>\n",
       "    <tr>\n",
       "      <th>India</th>\n",
       "      <td>193340264</td>\n",
       "    </tr>\n",
       "    <tr>\n",
       "      <th>Thailand</th>\n",
       "      <td>27003115</td>\n",
       "    </tr>\n",
       "    <tr>\n",
       "      <th>Vietnam</th>\n",
       "      <td>13522609</td>\n",
       "    </tr>\n",
       "    <tr>\n",
       "      <th>Egypt</th>\n",
       "      <td>13278208</td>\n",
       "    </tr>\n",
       "    <tr>\n",
       "      <th>Indonesia</th>\n",
       "      <td>11510346</td>\n",
       "    </tr>\n",
       "    <tr>\n",
       "      <th>Nepal</th>\n",
       "      <td>7842394</td>\n",
       "    </tr>\n",
       "    <tr>\n",
       "      <th>Malaysia</th>\n",
       "      <td>7805616</td>\n",
       "    </tr>\n",
       "    <tr>\n",
       "      <th>Netherlands</th>\n",
       "      <td>5767851</td>\n",
       "    </tr>\n",
       "    <tr>\n",
       "      <th>Pakistan</th>\n",
       "      <td>5594622</td>\n",
       "    </tr>\n",
       "    <tr>\n",
       "      <th>Philippines</th>\n",
       "      <td>5456271</td>\n",
       "    </tr>\n",
       "    <tr>\n",
       "      <th>Kenya</th>\n",
       "      <td>5444711</td>\n",
       "    </tr>\n",
       "    <tr>\n",
       "      <th>Singapore</th>\n",
       "      <td>4975063</td>\n",
       "    </tr>\n",
       "    <tr>\n",
       "      <th>Hong Kong</th>\n",
       "      <td>3896386</td>\n",
       "    </tr>\n",
       "    <tr>\n",
       "      <th>Utd.Arab Emir.</th>\n",
       "      <td>3744946</td>\n",
       "    </tr>\n",
       "    <tr>\n",
       "      <th>Sudan</th>\n",
       "      <td>3036276</td>\n",
       "    </tr>\n",
       "    <tr>\n",
       "      <th>South Korea</th>\n",
       "      <td>2753439</td>\n",
       "    </tr>\n",
       "    <tr>\n",
       "      <th>Taiwan</th>\n",
       "      <td>2527356</td>\n",
       "    </tr>\n",
       "    <tr>\n",
       "      <th>Syria</th>\n",
       "      <td>2317088</td>\n",
       "    </tr>\n",
       "    <tr>\n",
       "      <th>Bangladesh</th>\n",
       "      <td>2307584</td>\n",
       "    </tr>\n",
       "    <tr>\n",
       "      <th>Cambodia</th>\n",
       "      <td>2080242</td>\n",
       "    </tr>\n",
       "    <tr>\n",
       "      <th>Oman</th>\n",
       "      <td>1533925</td>\n",
       "    </tr>\n",
       "    <tr>\n",
       "      <th>Sri Lanka</th>\n",
       "      <td>1477015</td>\n",
       "    </tr>\n",
       "    <tr>\n",
       "      <th>Nigeria</th>\n",
       "      <td>1391229</td>\n",
       "    </tr>\n",
       "    <tr>\n",
       "      <th>Lebanon</th>\n",
       "      <td>1381137</td>\n",
       "    </tr>\n",
       "    <tr>\n",
       "      <th>Iran</th>\n",
       "      <td>1240672</td>\n",
       "    </tr>\n",
       "    <tr>\n",
       "      <th>South Africa</th>\n",
       "      <td>961800</td>\n",
       "    </tr>\n",
       "    <tr>\n",
       "      <th>Laos</th>\n",
       "      <td>863965</td>\n",
       "    </tr>\n",
       "    <tr>\n",
       "      <th>Yemen</th>\n",
       "      <td>856954</td>\n",
       "    </tr>\n",
       "    <tr>\n",
       "      <th>Argentina</th>\n",
       "      <td>787046</td>\n",
       "    </tr>\n",
       "    <tr>\n",
       "      <th>Japan</th>\n",
       "      <td>682695</td>\n",
       "    </tr>\n",
       "    <tr>\n",
       "      <th>Uganda</th>\n",
       "      <td>616640</td>\n",
       "    </tr>\n",
       "    <tr>\n",
       "      <th>United Kingdom</th>\n",
       "      <td>531980</td>\n",
       "    </tr>\n",
       "    <tr>\n",
       "      <th>USA</th>\n",
       "      <td>529602</td>\n",
       "    </tr>\n",
       "    <tr>\n",
       "      <th>Australia</th>\n",
       "      <td>516557</td>\n",
       "    </tr>\n",
       "    <tr>\n",
       "      <th>Ethiopia</th>\n",
       "      <td>493798</td>\n",
       "    </tr>\n",
       "    <tr>\n",
       "      <th>Morocco</th>\n",
       "      <td>470300</td>\n",
       "    </tr>\n",
       "    <tr>\n",
       "      <th>Germany</th>\n",
       "      <td>455278</td>\n",
       "    </tr>\n",
       "    <tr>\n",
       "      <th>Turkey</th>\n",
       "      <td>429574</td>\n",
       "    </tr>\n",
       "    <tr>\n",
       "      <th>Tunisia</th>\n",
       "      <td>412510</td>\n",
       "    </tr>\n",
       "    <tr>\n",
       "      <th>France</th>\n",
       "      <td>397500</td>\n",
       "    </tr>\n",
       "    <tr>\n",
       "      <th>Colombia</th>\n",
       "      <td>394914</td>\n",
       "    </tr>\n",
       "    <tr>\n",
       "      <th>Saudi Arabia</th>\n",
       "      <td>345352</td>\n",
       "    </tr>\n",
       "    <tr>\n",
       "      <th>Peru</th>\n",
       "      <td>310002</td>\n",
       "    </tr>\n",
       "    <tr>\n",
       "      <th>Mexico</th>\n",
       "      <td>251631</td>\n",
       "    </tr>\n",
       "    <tr>\n",
       "      <th>Spain</th>\n",
       "      <td>250716</td>\n",
       "    </tr>\n",
       "    <tr>\n",
       "      <th>Romania</th>\n",
       "      <td>196101</td>\n",
       "    </tr>\n",
       "    <tr>\n",
       "      <th>Algeria</th>\n",
       "      <td>160308</td>\n",
       "    </tr>\n",
       "    <tr>\n",
       "      <th>Tanzania</th>\n",
       "      <td>155873</td>\n",
       "    </tr>\n",
       "    <tr>\n",
       "      <th>Jordan</th>\n",
       "      <td>141642</td>\n",
       "    </tr>\n",
       "    <tr>\n",
       "      <th>China</th>\n",
       "      <td>120930</td>\n",
       "    </tr>\n",
       "    <tr>\n",
       "      <th>Ecuador</th>\n",
       "      <td>115656</td>\n",
       "    </tr>\n",
       "    <tr>\n",
       "      <th>Paraguay</th>\n",
       "      <td>98088</td>\n",
       "    </tr>\n",
       "    <tr>\n",
       "      <th>Benin</th>\n",
       "      <td>82929</td>\n",
       "    </tr>\n",
       "    <tr>\n",
       "      <th>Ireland</th>\n",
       "      <td>72490</td>\n",
       "    </tr>\n",
       "    <tr>\n",
       "      <th>Canada</th>\n",
       "      <td>72160</td>\n",
       "    </tr>\n",
       "    <tr>\n",
       "      <th>Hungary</th>\n",
       "      <td>57591</td>\n",
       "    </tr>\n",
       "    <tr>\n",
       "      <th>Slovenia</th>\n",
       "      <td>51606</td>\n",
       "    </tr>\n",
       "    <tr>\n",
       "      <th>Russian Fed.</th>\n",
       "      <td>28500</td>\n",
       "    </tr>\n",
       "    <tr>\n",
       "      <th>Panama</th>\n",
       "      <td>8052</td>\n",
       "    </tr>\n",
       "  </tbody>\n",
       "</table>\n",
       "</div>"
      ],
      "text/plain": [
       "                   Revenue\n",
       "ship to country           \n",
       "India            193340264\n",
       "Thailand          27003115\n",
       "Vietnam           13522609\n",
       "Egypt             13278208\n",
       "Indonesia         11510346\n",
       "Nepal              7842394\n",
       "Malaysia           7805616\n",
       "Netherlands        5767851\n",
       "Pakistan           5594622\n",
       "Philippines        5456271\n",
       "Kenya              5444711\n",
       "Singapore          4975063\n",
       "Hong Kong          3896386\n",
       "Utd.Arab Emir.     3744946\n",
       "Sudan              3036276\n",
       "South Korea        2753439\n",
       "Taiwan             2527356\n",
       "Syria              2317088\n",
       "Bangladesh         2307584\n",
       "Cambodia           2080242\n",
       "Oman               1533925\n",
       "Sri Lanka          1477015\n",
       "Nigeria            1391229\n",
       "Lebanon            1381137\n",
       "Iran               1240672\n",
       "South Africa        961800\n",
       "Laos                863965\n",
       "Yemen               856954\n",
       "Argentina           787046\n",
       "Japan               682695\n",
       "Uganda              616640\n",
       "United Kingdom      531980\n",
       "USA                 529602\n",
       "Australia           516557\n",
       "Ethiopia            493798\n",
       "Morocco             470300\n",
       "Germany             455278\n",
       "Turkey              429574\n",
       "Tunisia             412510\n",
       "France              397500\n",
       "Colombia            394914\n",
       "Saudi Arabia        345352\n",
       "Peru                310002\n",
       "Mexico              251631\n",
       "Spain               250716\n",
       "Romania             196101\n",
       "Algeria             160308\n",
       "Tanzania            155873\n",
       "Jordan              141642\n",
       "China               120930\n",
       "Ecuador             115656\n",
       "Paraguay             98088\n",
       "Benin                82929\n",
       "Ireland              72490\n",
       "Canada               72160\n",
       "Hungary              57591\n",
       "Slovenia             51606\n",
       "Russian Fed.         28500\n",
       "Panama                8052"
      ]
     },
     "execution_count": 13,
     "metadata": {},
     "output_type": "execute_result"
    }
   ],
   "source": [
    "df.groupby('ship to country').Revenue.sum().reset_index().sort_values('Revenue', ascending=False).set_index('ship to country')"
   ]
  },
  {
   "cell_type": "code",
   "execution_count": 14,
   "metadata": {},
   "outputs": [
    {
     "data": {
      "text/plain": [
       "(7.15992447537997, 1598.7783345737203)"
      ]
     },
     "execution_count": 14,
     "metadata": {},
     "output_type": "execute_result"
    }
   ],
   "source": [
    "193340264 / 27003115, 193340264 / 120930"
   ]
  },
  {
   "cell_type": "markdown",
   "metadata": {},
   "source": [
    "O país que rendeu o maior montante de revenue foi a Índia. Ele foi mais de sete vezes maior que o revenue do segundo colocado, Tailândia. A China teve um revenue 1598 vezes menor que a Índia."
   ]
  },
  {
   "cell_type": "code",
   "execution_count": 15,
   "metadata": {},
   "outputs": [
    {
     "data": {
      "text/plain": [
       "<matplotlib.axes._subplots.AxesSubplot at 0x25d88de9048>"
      ]
     },
     "execution_count": 15,
     "metadata": {},
     "output_type": "execute_result"
    },
    {
     "data": {
      "image/png": "[encoded data removed]",
      "text/plain": [
       "<Figure size 720x504 with 1 Axes>"
      ]
     },
     "metadata": {
      "needs_background": "light"
     },
     "output_type": "display_data"
    }
   ],
   "source": [
    "plt.figure(figsize=(10,7))\n",
    "my_order = ['Jan', 'Feb', 'Mar', 'Apr', 'May', 'Jun', 'Jul', 'Aug', 'Sep', 'Oct', 'Nov', 'Dec']\n",
    "sns.boxplot(x='Months', y='Sales quantity', data=df, order=my_order)"
   ]
  },
  {
   "cell_type": "markdown",
   "metadata": {},
   "source": [
    "Não se nota a presença de outliers nos gráficos boxplot. (meses x quantidade de vendas)"
   ]
  },
  {
   "cell_type": "code",
   "execution_count": 16,
   "metadata": {},
   "outputs": [
    {
     "data": {
      "text/plain": [
       "<matplotlib.axes._subplots.AxesSubplot at 0x25d8907fef0>"
      ]
     },
     "execution_count": 16,
     "metadata": {},
     "output_type": "execute_result"
    },
    {
     "data": {
      "image/png": "[encoded data removed]",
      "text/plain": [
       "<Figure size 432x288 with 1 Axes>"
      ]
     },
     "metadata": {
      "needs_background": "light"
     },
     "output_type": "display_data"
    }
   ],
   "source": [
    "df.groupby('Months').Revenue.sum().reset_index().sort_values('Revenue', ascending=False).set_index('Months').plot(kind='bar')"
   ]
  },
  {
   "cell_type": "markdown",
   "metadata": {},
   "source": [
    "Não há uma regra na distribuição de revenue ao longo dos meses. "
   ]
  },
  {
   "cell_type": "code",
   "execution_count": 17,
   "metadata": {},
   "outputs": [
    {
     "data": {
      "text/html": [
       "<div>\n",
       "<style scoped>\n",
       "    .dataframe tbody tr th:only-of-type {\n",
       "        vertical-align: middle;\n",
       "    }\n",
       "\n",
       "    .dataframe tbody tr th {\n",
       "        vertical-align: top;\n",
       "    }\n",
       "\n",
       "    .dataframe thead th {\n",
       "        text-align: right;\n",
       "    }\n",
       "</style>\n",
       "<table border=\"1\" class=\"dataframe\">\n",
       "  <thead>\n",
       "    <tr style=\"text-align: right;\">\n",
       "      <th></th>\n",
       "      <th>Months</th>\n",
       "      <th>Revenue</th>\n",
       "    </tr>\n",
       "  </thead>\n",
       "  <tbody>\n",
       "    <tr>\n",
       "      <th>7</th>\n",
       "      <td>Mar</td>\n",
       "      <td>729230</td>\n",
       "    </tr>\n",
       "    <tr>\n",
       "      <th>8</th>\n",
       "      <td>May</td>\n",
       "      <td>642164</td>\n",
       "    </tr>\n",
       "    <tr>\n",
       "      <th>11</th>\n",
       "      <td>Sep</td>\n",
       "      <td>616350</td>\n",
       "    </tr>\n",
       "    <tr>\n",
       "      <th>10</th>\n",
       "      <td>Oct</td>\n",
       "      <td>602418</td>\n",
       "    </tr>\n",
       "    <tr>\n",
       "      <th>9</th>\n",
       "      <td>Nov</td>\n",
       "      <td>566829</td>\n",
       "    </tr>\n",
       "    <tr>\n",
       "      <th>1</th>\n",
       "      <td>Aug</td>\n",
       "      <td>526569</td>\n",
       "    </tr>\n",
       "    <tr>\n",
       "      <th>2</th>\n",
       "      <td>Dec</td>\n",
       "      <td>384251</td>\n",
       "    </tr>\n",
       "    <tr>\n",
       "      <th>5</th>\n",
       "      <td>Jul</td>\n",
       "      <td>376205</td>\n",
       "    </tr>\n",
       "    <tr>\n",
       "      <th>0</th>\n",
       "      <td>Apr</td>\n",
       "      <td>369612</td>\n",
       "    </tr>\n",
       "    <tr>\n",
       "      <th>6</th>\n",
       "      <td>Jun</td>\n",
       "      <td>355619</td>\n",
       "    </tr>\n",
       "    <tr>\n",
       "      <th>4</th>\n",
       "      <td>Jan</td>\n",
       "      <td>344303</td>\n",
       "    </tr>\n",
       "    <tr>\n",
       "      <th>3</th>\n",
       "      <td>Feb</td>\n",
       "      <td>254301</td>\n",
       "    </tr>\n",
       "  </tbody>\n",
       "</table>\n",
       "</div>"
      ],
      "text/plain": [
       "   Months  Revenue\n",
       "7     Mar   729230\n",
       "8     May   642164\n",
       "11    Sep   616350\n",
       "10    Oct   602418\n",
       "9     Nov   566829\n",
       "1     Aug   526569\n",
       "2     Dec   384251\n",
       "5     Jul   376205\n",
       "0     Apr   369612\n",
       "6     Jun   355619\n",
       "4     Jan   344303\n",
       "3     Feb   254301"
      ]
     },
     "execution_count": 17,
     "metadata": {},
     "output_type": "execute_result"
    }
   ],
   "source": [
    "df[df['ship to country'] == 'Netherlands'].groupby('Months').Revenue.sum().reset_index().sort_values('Revenue', ascending=False)"
   ]
  },
  {
   "cell_type": "markdown",
   "metadata": {},
   "source": [
    "Num país com clima bem marcado como a Holanda também não percebemos uma correlação ao longo dos meses. "
   ]
  },
  {
   "cell_type": "markdown",
   "metadata": {},
   "source": [
    "# Previsão"
   ]
  },
  {
   "cell_type": "code",
   "execution_count": 18,
   "metadata": {},
   "outputs": [
    {
     "data": {
      "text/plain": [
       "Index(['Order ID', 'Generic Name', 'Brand Name', 'Company Name',\n",
       "       'Disease Medical Use', 'Invoice date', 'Company code',\n",
       "       'ship to country', 'Sold-to party Country Full Name', 'Delivery Plant',\n",
       "       'External Agent', 'Sales quantity', 'Price TC /Kg', 'Revenue',\n",
       "       'External commissions', 'Months'],\n",
       "      dtype='object')"
      ]
     },
     "execution_count": 18,
     "metadata": {},
     "output_type": "execute_result"
    }
   ],
   "source": [
    "df.columns"
   ]
  },
  {
   "cell_type": "code",
   "execution_count": 19,
   "metadata": {},
   "outputs": [],
   "source": [
    "df.drop(columns=['Order ID', 'Generic Name', 'Brand Name', 'Invoice date', 'Company code',\n",
    "                'Sold-to party Country Full Name', 'Delivery Plant', 'Price TC /Kg', 'Months'], inplace=True)"
   ]
  },
  {
   "cell_type": "code",
   "execution_count": 20,
   "metadata": {},
   "outputs": [
    {
     "data": {
      "text/html": [
       "<div>\n",
       "<style scoped>\n",
       "    .dataframe tbody tr th:only-of-type {\n",
       "        vertical-align: middle;\n",
       "    }\n",
       "\n",
       "    .dataframe tbody tr th {\n",
       "        vertical-align: top;\n",
       "    }\n",
       "\n",
       "    .dataframe thead th {\n",
       "        text-align: right;\n",
       "    }\n",
       "</style>\n",
       "<table border=\"1\" class=\"dataframe\">\n",
       "  <thead>\n",
       "    <tr style=\"text-align: right;\">\n",
       "      <th></th>\n",
       "      <th>Company Name</th>\n",
       "      <th>Disease Medical Use</th>\n",
       "      <th>ship to country</th>\n",
       "      <th>External Agent</th>\n",
       "      <th>Sales quantity</th>\n",
       "      <th>Revenue</th>\n",
       "      <th>External commissions</th>\n",
       "    </tr>\n",
       "  </thead>\n",
       "  <tbody>\n",
       "    <tr>\n",
       "      <th>0</th>\n",
       "      <td>Generic</td>\n",
       "      <td>Psychosis; depression</td>\n",
       "      <td>Mexico</td>\n",
       "      <td>Not assigned</td>\n",
       "      <td>450</td>\n",
       "      <td>91800</td>\n",
       "      <td>0.0</td>\n",
       "    </tr>\n",
       "    <tr>\n",
       "      <th>1</th>\n",
       "      <td>Generic</td>\n",
       "      <td>Pain</td>\n",
       "      <td>Thailand</td>\n",
       "      <td>Not assigned</td>\n",
       "      <td>374</td>\n",
       "      <td>176528</td>\n",
       "      <td>0.0</td>\n",
       "    </tr>\n",
       "    <tr>\n",
       "      <th>2</th>\n",
       "      <td>Generic</td>\n",
       "      <td>Pain</td>\n",
       "      <td>Vietnam</td>\n",
       "      <td>Assigned</td>\n",
       "      <td>138</td>\n",
       "      <td>65136</td>\n",
       "      <td>4186.0</td>\n",
       "    </tr>\n",
       "    <tr>\n",
       "      <th>3</th>\n",
       "      <td>Generic</td>\n",
       "      <td>Pain</td>\n",
       "      <td>Australia</td>\n",
       "      <td>Not assigned</td>\n",
       "      <td>227</td>\n",
       "      <td>107144</td>\n",
       "      <td>0.0</td>\n",
       "    </tr>\n",
       "    <tr>\n",
       "      <th>4</th>\n",
       "      <td>Generic</td>\n",
       "      <td>Pain</td>\n",
       "      <td>Singapore</td>\n",
       "      <td>Not assigned</td>\n",
       "      <td>394</td>\n",
       "      <td>185968</td>\n",
       "      <td>0.0</td>\n",
       "    </tr>\n",
       "  </tbody>\n",
       "</table>\n",
       "</div>"
      ],
      "text/plain": [
       "  Company Name    Disease Medical Use ship to country External Agent  \\\n",
       "0      Generic  Psychosis; depression          Mexico   Not assigned   \n",
       "1      Generic                   Pain        Thailand   Not assigned   \n",
       "2      Generic                   Pain         Vietnam       Assigned   \n",
       "3      Generic                   Pain       Australia   Not assigned   \n",
       "4      Generic                   Pain       Singapore   Not assigned   \n",
       "\n",
       "   Sales quantity  Revenue  External commissions  \n",
       "0             450    91800                   0.0  \n",
       "1             374   176528                   0.0  \n",
       "2             138    65136                4186.0  \n",
       "3             227   107144                   0.0  \n",
       "4             394   185968                   0.0  "
      ]
     },
     "execution_count": 20,
     "metadata": {},
     "output_type": "execute_result"
    }
   ],
   "source": [
    "df.head()"
   ]
  },
  {
   "cell_type": "code",
   "execution_count": 21,
   "metadata": {},
   "outputs": [],
   "source": [
    "df1 = pd.get_dummies(df, drop_first=True)"
   ]
  },
  {
   "cell_type": "code",
   "execution_count": 22,
   "metadata": {},
   "outputs": [
    {
     "data": {
      "text/plain": [
       "(3326, 92)"
      ]
     },
     "execution_count": 22,
     "metadata": {},
     "output_type": "execute_result"
    }
   ],
   "source": [
    "df1.shape"
   ]
  },
  {
   "cell_type": "code",
   "execution_count": 23,
   "metadata": {},
   "outputs": [],
   "source": [
    "from sklearn.model_selection import train_test_split"
   ]
  },
  {
   "cell_type": "markdown",
   "metadata": {},
   "source": [
    "Para fazer uma regressão e prever os revenues podemos dividir a base de dados com 75% dela para treino e 25% pare teste. Com ¾ de treino fazemos um modelo que será validado no ¼ e assim é calculado o R2 desse modelo. "
   ]
  },
  {
   "cell_type": "code",
   "execution_count": 24,
   "metadata": {},
   "outputs": [],
   "source": [
    "X = df1.drop(columns=['Revenue'])\n",
    "y = df1.Revenue\n",
    "X_train, X_test, y_train, y_test = train_test_split(X, y, random_state=34)"
   ]
  },
  {
   "cell_type": "code",
   "execution_count": 25,
   "metadata": {},
   "outputs": [
    {
     "data": {
      "text/plain": [
       "((2494, 91), (832, 91), (2494,), (832,))"
      ]
     },
     "execution_count": 25,
     "metadata": {},
     "output_type": "execute_result"
    }
   ],
   "source": [
    "X_train.shape, X_test.shape, y_train.shape, y_test.shape"
   ]
  },
  {
   "cell_type": "code",
   "execution_count": 26,
   "metadata": {},
   "outputs": [],
   "source": [
    "from sklearn.linear_model import LinearRegression"
   ]
  },
  {
   "cell_type": "code",
   "execution_count": 27,
   "metadata": {},
   "outputs": [],
   "source": [
    "model = LinearRegression()"
   ]
  },
  {
   "cell_type": "code",
   "execution_count": 28,
   "metadata": {},
   "outputs": [
    {
     "data": {
      "text/plain": [
       "LinearRegression(copy_X=True, fit_intercept=True, n_jobs=None,\n",
       "         normalize=False)"
      ]
     },
     "execution_count": 28,
     "metadata": {},
     "output_type": "execute_result"
    }
   ],
   "source": [
    "model.fit(X_train, y_train)"
   ]
  },
  {
   "cell_type": "code",
   "execution_count": 29,
   "metadata": {},
   "outputs": [],
   "source": [
    "predictions = model.predict(X_test)"
   ]
  },
  {
   "cell_type": "code",
   "execution_count": 30,
   "metadata": {},
   "outputs": [
    {
     "data": {
      "text/plain": [
       "<matplotlib.collections.PathCollection at 0x25d89b3d4e0>"
      ]
     },
     "execution_count": 30,
     "metadata": {},
     "output_type": "execute_result"
    },
    {
     "data": {
      "image/png": "[encoded data removed]",
      "text/plain": [
       "<Figure size 432x288 with 1 Axes>"
      ]
     },
     "metadata": {
      "needs_background": "light"
     },
     "output_type": "display_data"
    }
   ],
   "source": [
    "plt.scatter(y_test, predictions)"
   ]
  },
  {
   "cell_type": "code",
   "execution_count": 31,
   "metadata": {},
   "outputs": [],
   "source": [
    "from sklearn.metrics import r2_score"
   ]
  },
  {
   "cell_type": "code",
   "execution_count": 32,
   "metadata": {},
   "outputs": [
    {
     "name": "stdout",
     "output_type": "stream",
     "text": [
      "0.9456891019888198\n"
     ]
    }
   ],
   "source": [
    "score = r2_score(y_test, predictions)\n",
    "print(score)"
   ]
  },
  {
   "cell_type": "markdown",
   "metadata": {},
   "source": [
    "Quando comparadas as predições com os dados de teste temos uma R2 de 94,5%. Isso mostra que 94,5% dos dados de teste são explicados pelos dados previstos usando os dados de treino."
   ]
  },
  {
   "cell_type": "code",
   "execution_count": 33,
   "metadata": {},
   "outputs": [
    {
     "name": "stdout",
     "output_type": "stream",
     "text": [
      "-18070.95839998046\n"
     ]
    }
   ],
   "source": [
    "print(model.intercept_)"
   ]
  },
  {
   "cell_type": "markdown",
   "metadata": {},
   "source": [
    "Analisando os dados é possível ter uma boa ideia de como o mercado de fármacos se comportou. A regressão nos dá segurança para prever qual seria o revenue com base nas demais características."
   ]
  },
  {
   "cell_type": "code",
   "execution_count": 34,
   "metadata": {},
   "outputs": [
    {
     "data": {
      "text/html": [
       "<div>\n",
       "<style scoped>\n",
       "    .dataframe tbody tr th:only-of-type {\n",
       "        vertical-align: middle;\n",
       "    }\n",
       "\n",
       "    .dataframe tbody tr th {\n",
       "        vertical-align: top;\n",
       "    }\n",
       "\n",
       "    .dataframe thead th {\n",
       "        text-align: right;\n",
       "    }\n",
       "</style>\n",
       "<table border=\"1\" class=\"dataframe\">\n",
       "  <thead>\n",
       "    <tr style=\"text-align: right;\">\n",
       "      <th></th>\n",
       "      <th>Coefs</th>\n",
       "    </tr>\n",
       "  </thead>\n",
       "  <tbody>\n",
       "    <tr>\n",
       "      <th>Sales quantity</th>\n",
       "      <td>403.935839</td>\n",
       "    </tr>\n",
       "    <tr>\n",
       "      <th>External commissions</th>\n",
       "      <td>-0.432761</td>\n",
       "    </tr>\n",
       "    <tr>\n",
       "      <th>Company Name_Amgen</th>\n",
       "      <td>-17780.053189</td>\n",
       "    </tr>\n",
       "    <tr>\n",
       "      <th>Company Name_AstraZeneca, Shionogi</th>\n",
       "      <td>28982.282037</td>\n",
       "    </tr>\n",
       "    <tr>\n",
       "      <th>Company Name_Biogen Idec, Chugai Pharmaceutical, Genentech/Roche</th>\n",
       "      <td>1868.162713</td>\n",
       "    </tr>\n",
       "    <tr>\n",
       "      <th>Company Name_Boehringer Ingelheim</th>\n",
       "      <td>-4953.611479</td>\n",
       "    </tr>\n",
       "    <tr>\n",
       "      <th>Company Name_Centocor Ortho Biotech, Inc., Mitsubishi Tanabe Pharma</th>\n",
       "      <td>-4646.078918</td>\n",
       "    </tr>\n",
       "    <tr>\n",
       "      <th>Company Name_Genentech/Roche</th>\n",
       "      <td>-14226.798486</td>\n",
       "    </tr>\n",
       "    <tr>\n",
       "      <th>Company Name_Generic</th>\n",
       "      <td>8322.743967</td>\n",
       "    </tr>\n",
       "    <tr>\n",
       "      <th>Company Name_Gilead Sciences, Inc.</th>\n",
       "      <td>-4111.570931</td>\n",
       "    </tr>\n",
       "  </tbody>\n",
       "</table>\n",
       "</div>"
      ],
      "text/plain": [
       "                                                           Coefs\n",
       "Sales quantity                                        403.935839\n",
       "External commissions                                   -0.432761\n",
       "Company Name_Amgen                                 -17780.053189\n",
       "Company Name_AstraZeneca, Shionogi                  28982.282037\n",
       "Company Name_Biogen Idec, Chugai Pharmaceutical...   1868.162713\n",
       "Company Name_Boehringer Ingelheim                   -4953.611479\n",
       "Company Name_Centocor Ortho Biotech, Inc., Mits...  -4646.078918\n",
       "Company Name_Genentech/Roche                       -14226.798486\n",
       "Company Name_Generic                                 8322.743967\n",
       "Company Name_Gilead Sciences, Inc.                  -4111.570931"
      ]
     },
     "execution_count": 34,
     "metadata": {},
     "output_type": "execute_result"
    }
   ],
   "source": [
    "coef = pd.DataFrame(model.coef_, X.columns, columns=['Coefs'])\n",
    "coef.head(10)"
   ]
  },
  {
   "cell_type": "code",
   "execution_count": 35,
   "metadata": {},
   "outputs": [
    {
     "data": {
      "text/plain": [
       "<matplotlib.axes._subplots.AxesSubplot at 0x25d89adfc88>"
      ]
     },
     "execution_count": 35,
     "metadata": {},
     "output_type": "execute_result"
    },
    {
     "data": {
      "image/png": "[encoded data removed]",
      "text/plain": [
       "<Figure size 1440x1440 with 1 Axes>"
      ]
     },
     "metadata": {
      "needs_background": "light"
     },
     "output_type": "display_data"
    }
   ],
   "source": [
    "coef.sort_values('Coefs', ascending=False).plot(kind='barh', figsize=(20,20))"
   ]
  },
  {
   "cell_type": "code",
   "execution_count": null,
   "metadata": {},
   "outputs": [],
   "source": []
  }
 ],
 "metadata": {
  "kernelspec": {
   "display_name": "Python 3",
   "language": "python",
   "name": "python3"
  },
  "language_info": {
   "codemirror_mode": {
    "name": "ipython",
    "version": 3
   },
   "file_extension": ".py",
   "mimetype": "text/x-python",
   "name": "python",
   "nbconvert_exporter": "python",
   "pygments_lexer": "ipython3",
   "version": "3.7.3"
  }
 },
 "nbformat": 4,
 "nbformat_minor": 2
}
